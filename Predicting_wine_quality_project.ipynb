{
  "cells": [
    {
      "cell_type": "markdown",
      "metadata": {
        "id": "view-in-github",
        "colab_type": "text"
      },
      "source": [
        "<a href=\"https://colab.research.google.com/github/StankovskaKaterina/Predicting-wine-quality/blob/main/Predicting_wine_quality_project.ipynb\" target=\"_parent\"><img src=\"https://colab.research.google.com/assets/colab-badge.svg\" alt=\"Open In Colab\"/></a>"
      ]
    },
    {
      "cell_type": "markdown",
      "metadata": {
        "id": "hfjYGetFC9wo"
      },
      "source": [
        "# PREDICTING WINE QUALITY WITH RANDOM FOREST AND SCIKIT-LEARN"
      ]
    },
    {
      "cell_type": "markdown",
      "metadata": {
        "id": "T1VIIfSvC9wr"
      },
      "source": [
        "## Task 1. Getting Started and Working with Google Colaboratory"
      ]
    },
    {
      "cell_type": "markdown",
      "metadata": {
        "id": "yCEURxkdC9ws"
      },
      "source": [
        "- Rhyme: Coursera's hands-on project platform  \n",
        "- Virtual Browser  \n",
        "- Google Colaboratory: write and execute Python code in a Jupyter Notebook  "
      ]
    },
    {
      "cell_type": "markdown",
      "metadata": {
        "id": "eIK6YuJ0C9ws"
      },
      "source": [
        "## Task 2. Defining Problem, Importing Libraries and Downloading Data"
      ]
    },
    {
      "cell_type": "markdown",
      "metadata": {
        "id": "v-f9CKEiC9wt"
      },
      "source": [
        "### 2.1 Define Problem"
      ]
    },
    {
      "cell_type": "markdown",
      "metadata": {
        "id": "aTUtFDKFC9wt"
      },
      "source": [
        "**Objective:** Modeling Wine Quality based on its physicochemical attributes.  \n",
        "\n",
        "**List of attributes:**\n",
        "- fixed acidity  \n",
        "- volatile acidity  \n",
        "- citric acid\t\n",
        "- residual sugar\t\n",
        "- chlorides\t\n",
        "- free sulfur dioxide\t\n",
        "- total sulfur dioxide\t\n",
        "- density\t\n",
        "- pH\t\n",
        "- sulphates\t\n",
        "- alcohol   \n",
        "\n",
        "**Quality:** Categorical levels from 3 to 8.\n",
        "\n",
        "**Data:**\n",
        "- There are two datasets related to red and white variants of the Portuguese \"Vinho Verde\" wine.\n",
        "- In this project we only use red wine dataset.\n",
        "- Datasets are available at [UCI Machine Learning Repository](https://archive.ics.uci.edu/ml/datasets/wine+quality) and [Paulo Cortez's web page](http://www3.dsi.uminho.pt/pcortez/wine/).    \n",
        "\n",
        "**Acknowledgements:**   \n",
        "Thanks for the assistance I received by using the *UCI Machine Learning Repository*.  \n",
        "Dua, D. and Graff, C. (2019). [UCI Machine Learning Repository](http://archive.ics.uci.edu/ml). Irvine, CA: University of California, School of Information and Computer Science.\n",
        "\n",
        "**Relevant paper:**  \n",
        "[1] P. Cortez, A. Cerdeira, F. Almeida, T. Matos and J. Reis. *Modeling wine preferences by data mining from physicochemical properties*. In Decision Support Systems, Elsevier, 47(4):547-553, 2009. Available [here](http://dx.doi.org/10.1016/j.dss.2009.05.016)."
      ]
    },
    {
      "cell_type": "markdown",
      "metadata": {
        "id": "31mydMZFC9wu"
      },
      "source": [
        "### 2.2 Libraries"
      ]
    },
    {
      "cell_type": "code",
      "execution_count": null,
      "metadata": {
        "id": "IJwf2iz3C9wu",
        "colab": {
          "base_uri": "https://localhost:8080/"
        },
        "outputId": "1ffd31a7-3e01-4990-d540-9219193ed660"
      },
      "outputs": [
        {
          "output_type": "stream",
          "name": "stdout",
          "text": [
            "Python 3.7.12\n",
            "pandas 1.3.5\n",
            "numpy 1.21.5\n",
            "matplotlib 3.2.2\n",
            "seaborn 0.11.2\n",
            "sklearn 1.0.2\n",
            "scipy 1.4.1\n",
            "requests 2.23.0\n",
            "platform 1.0.8\n"
          ]
        }
      ],
      "source": [
        "%matplotlib inline\n",
        "\n",
        "import pandas as pd               # package for data analysis and manipulation \n",
        "import numpy as np                # package for scientific computing on multidimensional arrays \n",
        "import matplotlib                 # package for creating visualizations\n",
        "from matplotlib import pyplot as plt\n",
        "import seaborn as sns             # data visualization library based on matplotlib\n",
        "import sklearn                    # machine learning library\n",
        "from sklearn.ensemble import RandomForestClassifier\n",
        "from sklearn.model_selection import train_test_split\n",
        "from sklearn.metrics import confusion_matrix\n",
        "from sklearn.preprocessing import LabelEncoder\n",
        "from sklearn import tree\n",
        "from sklearn.inspection import permutation_importance\n",
        "from sklearn.calibration import CalibratedClassifierCV\n",
        "from sklearn.model_selection import GridSearchCV, StratifiedKFold\n",
        "import scipy                      # library for mathematics, science and engineering\n",
        "from scipy.stats import spearmanr\n",
        "from scipy.cluster import hierarchy\n",
        "import collections\n",
        "import zipfile\n",
        "import requests\n",
        "import platform\n",
        "\n",
        "# Check Python version\n",
        "print('Python', platform.python_version())\n",
        "\n",
        "# Check the version of packages\n",
        "for package in [pd, np, matplotlib, sns, sklearn, scipy, requests, platform]:\n",
        "    print (package.__name__, package.__version__)"
      ]
    },
    {
      "cell_type": "code",
      "execution_count": null,
      "metadata": {
        "id": "tAVUfoa8C9ww"
      },
      "outputs": [],
      "source": [
        "# Remove the max column restriction for displaying on the screen\n",
        "pd.options.display.max_columns = None"
      ]
    },
    {
      "cell_type": "markdown",
      "metadata": {
        "id": "4Dqc-bG1C9xG"
      },
      "source": [
        "### 2.3 Data"
      ]
    },
    {
      "cell_type": "code",
      "execution_count": null,
      "metadata": {
        "id": "y2_HwJueC9xG"
      },
      "outputs": [],
      "source": [
        "url1 = 'http://www3.dsi.uminho.pt/pcortez/wine/winequality.zip'\n",
        "url2 = 'https://drive.google.com/uc?id=1dAb2OalBSblCop9UbGjiv9qnS3N-3Kuw'\n",
        "file = 'raw_data.zip'"
      ]
    },
    {
      "cell_type": "code",
      "execution_count": null,
      "metadata": {
        "id": "LAXpQ5awC9xH",
        "colab": {
          "base_uri": "https://localhost:8080/"
        },
        "outputId": "15bfe087-f17e-411e-deec-7cfa13dedfe4"
      },
      "outputs": [
        {
          "output_type": "stream",
          "name": "stdout",
          "text": [
            "Successful download from url 1\n",
            "\n",
            "File Name                                             Modified             Size\n",
            "winequality/winequality-names.txt              2009-10-07 15:52:54         2838\n",
            "winequality/winequality-names.txt.bak          2009-10-07 15:52:28         2838\n",
            "winequality/winequality-red.csv                2009-06-26 17:45:52        84199\n",
            "winequality/winequality-white.csv              2009-06-26 17:47:46       264426\n"
          ]
        }
      ],
      "source": [
        "try:\n",
        "  with requests.Session() as s:\n",
        "    response = s.get(url1)\n",
        "  open(file, 'wb').write(response.content)\n",
        "  print('Successful download from url 1\\n')\n",
        "except:\n",
        "  with requests.Session() as s:\n",
        "      response = s.get(url2)\n",
        "  open(file,'wb').write(response.content)\n",
        "  print('Successful download from url 2 \\n')\n",
        "\n",
        "zip_file = zipfile.ZipFile(file, mode ='r') \n",
        "zip_file.printdir()"
      ]
    },
    {
      "cell_type": "code",
      "execution_count": null,
      "metadata": {
        "id": "RUAyFZnMC9xH",
        "colab": {
          "base_uri": "https://localhost:8080/"
        },
        "outputId": "4a31e5a6-a064-428f-b89d-213cb38738e5"
      },
      "outputs": [
        {
          "output_type": "execute_result",
          "data": {
            "text/plain": [
              "[b'\"fixed acidity\";\"volatile acidity\";\"citric acid\";\"residual sugar\";\"chlorides\";\"free sulfur dioxide\";\"total sulfur dioxide\";\"density\";\"pH\";\"sulphates\";\"alcohol\";\"quality\"\\n',\n",
              " b'7.4;0.7;0;1.9;0.076;11;34;0.9978;3.51;0.56;9.4;5\\n',\n",
              " b'7.8;0.88;0;2.6;0.098;25;67;0.9968;3.2;0.68;9.8;5\\n',\n",
              " b'7.8;0.76;0.04;2.3;0.092;15;54;0.997;3.26;0.65;9.8;5\\n']"
            ]
          },
          "metadata": {},
          "execution_count": 16
        }
      ],
      "source": [
        "path = 'winequality/winequality-red.csv'\n",
        "wine_csv = zip_file.open(path, mode='r')\n",
        "\n",
        "wine_csv.readlines(300)"
      ]
    },
    {
      "cell_type": "code",
      "execution_count": null,
      "metadata": {
        "id": "0-KP4hutC9xH",
        "colab": {
          "base_uri": "https://localhost:8080/",
          "height": 397
        },
        "outputId": "eb37c1bc-936c-4a33-a09a-a3ada6a715d2"
      },
      "outputs": [
        {
          "output_type": "stream",
          "name": "stdout",
          "text": [
            "Shape of wine =  (1599, 12)\n",
            "Number of rows = 1599, Number of columns= 12\n"
          ]
        },
        {
          "output_type": "execute_result",
          "data": {
            "text/plain": [
              "   fixed acidity  volatile acidity  citric acid  residual sugar  chlorides  \\\n",
              "0            7.4              0.70         0.00             1.9      0.076   \n",
              "1            7.8              0.88         0.00             2.6      0.098   \n",
              "2            7.8              0.76         0.04             2.3      0.092   \n",
              "3           11.2              0.28         0.56             1.9      0.075   \n",
              "4            7.4              0.70         0.00             1.9      0.076   \n",
              "5            7.4              0.66         0.00             1.8      0.075   \n",
              "6            7.9              0.60         0.06             1.6      0.069   \n",
              "7            7.3              0.65         0.00             1.2      0.065   \n",
              "8            7.8              0.58         0.02             2.0      0.073   \n",
              "9            7.5              0.50         0.36             6.1      0.071   \n",
              "\n",
              "   free sulfur dioxide  total sulfur dioxide  density    pH  sulphates  \\\n",
              "0                 11.0                  34.0   0.9978  3.51       0.56   \n",
              "1                 25.0                  67.0   0.9968  3.20       0.68   \n",
              "2                 15.0                  54.0   0.9970  3.26       0.65   \n",
              "3                 17.0                  60.0   0.9980  3.16       0.58   \n",
              "4                 11.0                  34.0   0.9978  3.51       0.56   \n",
              "5                 13.0                  40.0   0.9978  3.51       0.56   \n",
              "6                 15.0                  59.0   0.9964  3.30       0.46   \n",
              "7                 15.0                  21.0   0.9946  3.39       0.47   \n",
              "8                  9.0                  18.0   0.9968  3.36       0.57   \n",
              "9                 17.0                 102.0   0.9978  3.35       0.80   \n",
              "\n",
              "   alcohol  quality  \n",
              "0      9.4        5  \n",
              "1      9.8        5  \n",
              "2      9.8        5  \n",
              "3      9.8        6  \n",
              "4      9.4        5  \n",
              "5      9.4        5  \n",
              "6      9.4        5  \n",
              "7     10.0        7  \n",
              "8      9.5        7  \n",
              "9     10.5        5  "
            ],
            "text/html": [
              "\n",
              "  <div id=\"df-01e8a97b-5932-401e-abc2-5f0393a4a4de\">\n",
              "    <div class=\"colab-df-container\">\n",
              "      <div>\n",
              "<style scoped>\n",
              "    .dataframe tbody tr th:only-of-type {\n",
              "        vertical-align: middle;\n",
              "    }\n",
              "\n",
              "    .dataframe tbody tr th {\n",
              "        vertical-align: top;\n",
              "    }\n",
              "\n",
              "    .dataframe thead th {\n",
              "        text-align: right;\n",
              "    }\n",
              "</style>\n",
              "<table border=\"1\" class=\"dataframe\">\n",
              "  <thead>\n",
              "    <tr style=\"text-align: right;\">\n",
              "      <th></th>\n",
              "      <th>fixed acidity</th>\n",
              "      <th>volatile acidity</th>\n",
              "      <th>citric acid</th>\n",
              "      <th>residual sugar</th>\n",
              "      <th>chlorides</th>\n",
              "      <th>free sulfur dioxide</th>\n",
              "      <th>total sulfur dioxide</th>\n",
              "      <th>density</th>\n",
              "      <th>pH</th>\n",
              "      <th>sulphates</th>\n",
              "      <th>alcohol</th>\n",
              "      <th>quality</th>\n",
              "    </tr>\n",
              "  </thead>\n",
              "  <tbody>\n",
              "    <tr>\n",
              "      <th>0</th>\n",
              "      <td>7.4</td>\n",
              "      <td>0.70</td>\n",
              "      <td>0.00</td>\n",
              "      <td>1.9</td>\n",
              "      <td>0.076</td>\n",
              "      <td>11.0</td>\n",
              "      <td>34.0</td>\n",
              "      <td>0.9978</td>\n",
              "      <td>3.51</td>\n",
              "      <td>0.56</td>\n",
              "      <td>9.4</td>\n",
              "      <td>5</td>\n",
              "    </tr>\n",
              "    <tr>\n",
              "      <th>1</th>\n",
              "      <td>7.8</td>\n",
              "      <td>0.88</td>\n",
              "      <td>0.00</td>\n",
              "      <td>2.6</td>\n",
              "      <td>0.098</td>\n",
              "      <td>25.0</td>\n",
              "      <td>67.0</td>\n",
              "      <td>0.9968</td>\n",
              "      <td>3.20</td>\n",
              "      <td>0.68</td>\n",
              "      <td>9.8</td>\n",
              "      <td>5</td>\n",
              "    </tr>\n",
              "    <tr>\n",
              "      <th>2</th>\n",
              "      <td>7.8</td>\n",
              "      <td>0.76</td>\n",
              "      <td>0.04</td>\n",
              "      <td>2.3</td>\n",
              "      <td>0.092</td>\n",
              "      <td>15.0</td>\n",
              "      <td>54.0</td>\n",
              "      <td>0.9970</td>\n",
              "      <td>3.26</td>\n",
              "      <td>0.65</td>\n",
              "      <td>9.8</td>\n",
              "      <td>5</td>\n",
              "    </tr>\n",
              "    <tr>\n",
              "      <th>3</th>\n",
              "      <td>11.2</td>\n",
              "      <td>0.28</td>\n",
              "      <td>0.56</td>\n",
              "      <td>1.9</td>\n",
              "      <td>0.075</td>\n",
              "      <td>17.0</td>\n",
              "      <td>60.0</td>\n",
              "      <td>0.9980</td>\n",
              "      <td>3.16</td>\n",
              "      <td>0.58</td>\n",
              "      <td>9.8</td>\n",
              "      <td>6</td>\n",
              "    </tr>\n",
              "    <tr>\n",
              "      <th>4</th>\n",
              "      <td>7.4</td>\n",
              "      <td>0.70</td>\n",
              "      <td>0.00</td>\n",
              "      <td>1.9</td>\n",
              "      <td>0.076</td>\n",
              "      <td>11.0</td>\n",
              "      <td>34.0</td>\n",
              "      <td>0.9978</td>\n",
              "      <td>3.51</td>\n",
              "      <td>0.56</td>\n",
              "      <td>9.4</td>\n",
              "      <td>5</td>\n",
              "    </tr>\n",
              "    <tr>\n",
              "      <th>5</th>\n",
              "      <td>7.4</td>\n",
              "      <td>0.66</td>\n",
              "      <td>0.00</td>\n",
              "      <td>1.8</td>\n",
              "      <td>0.075</td>\n",
              "      <td>13.0</td>\n",
              "      <td>40.0</td>\n",
              "      <td>0.9978</td>\n",
              "      <td>3.51</td>\n",
              "      <td>0.56</td>\n",
              "      <td>9.4</td>\n",
              "      <td>5</td>\n",
              "    </tr>\n",
              "    <tr>\n",
              "      <th>6</th>\n",
              "      <td>7.9</td>\n",
              "      <td>0.60</td>\n",
              "      <td>0.06</td>\n",
              "      <td>1.6</td>\n",
              "      <td>0.069</td>\n",
              "      <td>15.0</td>\n",
              "      <td>59.0</td>\n",
              "      <td>0.9964</td>\n",
              "      <td>3.30</td>\n",
              "      <td>0.46</td>\n",
              "      <td>9.4</td>\n",
              "      <td>5</td>\n",
              "    </tr>\n",
              "    <tr>\n",
              "      <th>7</th>\n",
              "      <td>7.3</td>\n",
              "      <td>0.65</td>\n",
              "      <td>0.00</td>\n",
              "      <td>1.2</td>\n",
              "      <td>0.065</td>\n",
              "      <td>15.0</td>\n",
              "      <td>21.0</td>\n",
              "      <td>0.9946</td>\n",
              "      <td>3.39</td>\n",
              "      <td>0.47</td>\n",
              "      <td>10.0</td>\n",
              "      <td>7</td>\n",
              "    </tr>\n",
              "    <tr>\n",
              "      <th>8</th>\n",
              "      <td>7.8</td>\n",
              "      <td>0.58</td>\n",
              "      <td>0.02</td>\n",
              "      <td>2.0</td>\n",
              "      <td>0.073</td>\n",
              "      <td>9.0</td>\n",
              "      <td>18.0</td>\n",
              "      <td>0.9968</td>\n",
              "      <td>3.36</td>\n",
              "      <td>0.57</td>\n",
              "      <td>9.5</td>\n",
              "      <td>7</td>\n",
              "    </tr>\n",
              "    <tr>\n",
              "      <th>9</th>\n",
              "      <td>7.5</td>\n",
              "      <td>0.50</td>\n",
              "      <td>0.36</td>\n",
              "      <td>6.1</td>\n",
              "      <td>0.071</td>\n",
              "      <td>17.0</td>\n",
              "      <td>102.0</td>\n",
              "      <td>0.9978</td>\n",
              "      <td>3.35</td>\n",
              "      <td>0.80</td>\n",
              "      <td>10.5</td>\n",
              "      <td>5</td>\n",
              "    </tr>\n",
              "  </tbody>\n",
              "</table>\n",
              "</div>\n",
              "      <button class=\"colab-df-convert\" onclick=\"convertToInteractive('df-01e8a97b-5932-401e-abc2-5f0393a4a4de')\"\n",
              "              title=\"Convert this dataframe to an interactive table.\"\n",
              "              style=\"display:none;\">\n",
              "        \n",
              "  <svg xmlns=\"http://www.w3.org/2000/svg\" height=\"24px\"viewBox=\"0 0 24 24\"\n",
              "       width=\"24px\">\n",
              "    <path d=\"M0 0h24v24H0V0z\" fill=\"none\"/>\n",
              "    <path d=\"M18.56 5.44l.94 2.06.94-2.06 2.06-.94-2.06-.94-.94-2.06-.94 2.06-2.06.94zm-11 1L8.5 8.5l.94-2.06 2.06-.94-2.06-.94L8.5 2.5l-.94 2.06-2.06.94zm10 10l.94 2.06.94-2.06 2.06-.94-2.06-.94-.94-2.06-.94 2.06-2.06.94z\"/><path d=\"M17.41 7.96l-1.37-1.37c-.4-.4-.92-.59-1.43-.59-.52 0-1.04.2-1.43.59L10.3 9.45l-7.72 7.72c-.78.78-.78 2.05 0 2.83L4 21.41c.39.39.9.59 1.41.59.51 0 1.02-.2 1.41-.59l7.78-7.78 2.81-2.81c.8-.78.8-2.07 0-2.86zM5.41 20L4 18.59l7.72-7.72 1.47 1.35L5.41 20z\"/>\n",
              "  </svg>\n",
              "      </button>\n",
              "      \n",
              "  <style>\n",
              "    .colab-df-container {\n",
              "      display:flex;\n",
              "      flex-wrap:wrap;\n",
              "      gap: 12px;\n",
              "    }\n",
              "\n",
              "    .colab-df-convert {\n",
              "      background-color: #E8F0FE;\n",
              "      border: none;\n",
              "      border-radius: 50%;\n",
              "      cursor: pointer;\n",
              "      display: none;\n",
              "      fill: #1967D2;\n",
              "      height: 32px;\n",
              "      padding: 0 0 0 0;\n",
              "      width: 32px;\n",
              "    }\n",
              "\n",
              "    .colab-df-convert:hover {\n",
              "      background-color: #E2EBFA;\n",
              "      box-shadow: 0px 1px 2px rgba(60, 64, 67, 0.3), 0px 1px 3px 1px rgba(60, 64, 67, 0.15);\n",
              "      fill: #174EA6;\n",
              "    }\n",
              "\n",
              "    [theme=dark] .colab-df-convert {\n",
              "      background-color: #3B4455;\n",
              "      fill: #D2E3FC;\n",
              "    }\n",
              "\n",
              "    [theme=dark] .colab-df-convert:hover {\n",
              "      background-color: #434B5C;\n",
              "      box-shadow: 0px 1px 3px 1px rgba(0, 0, 0, 0.15);\n",
              "      filter: drop-shadow(0px 1px 2px rgba(0, 0, 0, 0.3));\n",
              "      fill: #FFFFFF;\n",
              "    }\n",
              "  </style>\n",
              "\n",
              "      <script>\n",
              "        const buttonEl =\n",
              "          document.querySelector('#df-01e8a97b-5932-401e-abc2-5f0393a4a4de button.colab-df-convert');\n",
              "        buttonEl.style.display =\n",
              "          google.colab.kernel.accessAllowed ? 'block' : 'none';\n",
              "\n",
              "        async function convertToInteractive(key) {\n",
              "          const element = document.querySelector('#df-01e8a97b-5932-401e-abc2-5f0393a4a4de');\n",
              "          const dataTable =\n",
              "            await google.colab.kernel.invokeFunction('convertToInteractive',\n",
              "                                                     [key], {});\n",
              "          if (!dataTable) return;\n",
              "\n",
              "          const docLinkHtml = 'Like what you see? Visit the ' +\n",
              "            '<a target=\"_blank\" href=https://colab.research.google.com/notebooks/data_table.ipynb>data table notebook</a>'\n",
              "            + ' to learn more about interactive tables.';\n",
              "          element.innerHTML = '';\n",
              "          dataTable['output_type'] = 'display_data';\n",
              "          await google.colab.output.renderOutput(dataTable, element);\n",
              "          const docLink = document.createElement('div');\n",
              "          docLink.innerHTML = docLinkHtml;\n",
              "          element.appendChild(docLink);\n",
              "        }\n",
              "      </script>\n",
              "    </div>\n",
              "  </div>\n",
              "  "
            ]
          },
          "metadata": {},
          "execution_count": 17
        }
      ],
      "source": [
        "#needed since the file is semi-colon separate values and not comma separated values\n",
        "wine_csv.seek(0)\n",
        "wine = pd.read_csv(wine_csv, sep=';')\n",
        "wine_csv.close()\n",
        "\n",
        "print('Shape of wine = ', wine.shape)\n",
        "print('Number of rows = {}, Number of columns= {}'.format(wine.shape[0], wine.shape[1]))\n",
        "wine.head(10)\n"
      ]
    },
    {
      "cell_type": "markdown",
      "metadata": {
        "id": "WMiKkbFMC9xH"
      },
      "source": [
        "## Task 3. Cleaning Data"
      ]
    },
    {
      "cell_type": "markdown",
      "metadata": {
        "id": "JflIo7OsC9xI"
      },
      "source": [
        "### 3.1 Rename and change the order of columns"
      ]
    },
    {
      "cell_type": "code",
      "execution_count": null,
      "metadata": {
        "id": "a8vHgyqQC9xI",
        "colab": {
          "base_uri": "https://localhost:8080/"
        },
        "outputId": "6b204458-03ae-4734-aa33-ae59d3e22d5d"
      },
      "outputs": [
        {
          "output_type": "execute_result",
          "data": {
            "text/plain": [
              "Index(['fixed acidity', 'volatile acidity', 'citric acid', 'residual sugar',\n",
              "       'chlorides', 'free sulfur dioxide', 'total sulfur dioxide', 'density',\n",
              "       'pH', 'sulphates', 'alcohol', 'quality'],\n",
              "      dtype='object')"
            ]
          },
          "metadata": {},
          "execution_count": 18
        }
      ],
      "source": [
        "wine.columns"
      ]
    },
    {
      "cell_type": "code",
      "execution_count": null,
      "metadata": {
        "id": "Sk2khrEiC9xI",
        "colab": {
          "base_uri": "https://localhost:8080/",
          "height": 206
        },
        "outputId": "475c9dd9-80ca-45c6-bc4a-6f47eb9d498f"
      },
      "outputs": [
        {
          "output_type": "execute_result",
          "data": {
            "text/plain": [
              "   fixed_acidity  volatile_acidity  citric_acid  residual_sugar  chlorides  \\\n",
              "0            7.4              0.70         0.00             1.9      0.076   \n",
              "1            7.8              0.88         0.00             2.6      0.098   \n",
              "2            7.8              0.76         0.04             2.3      0.092   \n",
              "3           11.2              0.28         0.56             1.9      0.075   \n",
              "4            7.4              0.70         0.00             1.9      0.076   \n",
              "\n",
              "   free_sulfur_dioxide  total_sulfur_dioxide  density    pH  sulphates  \\\n",
              "0                 11.0                  34.0   0.9978  3.51       0.56   \n",
              "1                 25.0                  67.0   0.9968  3.20       0.68   \n",
              "2                 15.0                  54.0   0.9970  3.26       0.65   \n",
              "3                 17.0                  60.0   0.9980  3.16       0.58   \n",
              "4                 11.0                  34.0   0.9978  3.51       0.56   \n",
              "\n",
              "   alcohol  quality  \n",
              "0      9.4        5  \n",
              "1      9.8        5  \n",
              "2      9.8        5  \n",
              "3      9.8        6  \n",
              "4      9.4        5  "
            ],
            "text/html": [
              "\n",
              "  <div id=\"df-d29a294d-3aba-49b7-937d-10b7ce3f0d12\">\n",
              "    <div class=\"colab-df-container\">\n",
              "      <div>\n",
              "<style scoped>\n",
              "    .dataframe tbody tr th:only-of-type {\n",
              "        vertical-align: middle;\n",
              "    }\n",
              "\n",
              "    .dataframe tbody tr th {\n",
              "        vertical-align: top;\n",
              "    }\n",
              "\n",
              "    .dataframe thead th {\n",
              "        text-align: right;\n",
              "    }\n",
              "</style>\n",
              "<table border=\"1\" class=\"dataframe\">\n",
              "  <thead>\n",
              "    <tr style=\"text-align: right;\">\n",
              "      <th></th>\n",
              "      <th>fixed_acidity</th>\n",
              "      <th>volatile_acidity</th>\n",
              "      <th>citric_acid</th>\n",
              "      <th>residual_sugar</th>\n",
              "      <th>chlorides</th>\n",
              "      <th>free_sulfur_dioxide</th>\n",
              "      <th>total_sulfur_dioxide</th>\n",
              "      <th>density</th>\n",
              "      <th>pH</th>\n",
              "      <th>sulphates</th>\n",
              "      <th>alcohol</th>\n",
              "      <th>quality</th>\n",
              "    </tr>\n",
              "  </thead>\n",
              "  <tbody>\n",
              "    <tr>\n",
              "      <th>0</th>\n",
              "      <td>7.4</td>\n",
              "      <td>0.70</td>\n",
              "      <td>0.00</td>\n",
              "      <td>1.9</td>\n",
              "      <td>0.076</td>\n",
              "      <td>11.0</td>\n",
              "      <td>34.0</td>\n",
              "      <td>0.9978</td>\n",
              "      <td>3.51</td>\n",
              "      <td>0.56</td>\n",
              "      <td>9.4</td>\n",
              "      <td>5</td>\n",
              "    </tr>\n",
              "    <tr>\n",
              "      <th>1</th>\n",
              "      <td>7.8</td>\n",
              "      <td>0.88</td>\n",
              "      <td>0.00</td>\n",
              "      <td>2.6</td>\n",
              "      <td>0.098</td>\n",
              "      <td>25.0</td>\n",
              "      <td>67.0</td>\n",
              "      <td>0.9968</td>\n",
              "      <td>3.20</td>\n",
              "      <td>0.68</td>\n",
              "      <td>9.8</td>\n",
              "      <td>5</td>\n",
              "    </tr>\n",
              "    <tr>\n",
              "      <th>2</th>\n",
              "      <td>7.8</td>\n",
              "      <td>0.76</td>\n",
              "      <td>0.04</td>\n",
              "      <td>2.3</td>\n",
              "      <td>0.092</td>\n",
              "      <td>15.0</td>\n",
              "      <td>54.0</td>\n",
              "      <td>0.9970</td>\n",
              "      <td>3.26</td>\n",
              "      <td>0.65</td>\n",
              "      <td>9.8</td>\n",
              "      <td>5</td>\n",
              "    </tr>\n",
              "    <tr>\n",
              "      <th>3</th>\n",
              "      <td>11.2</td>\n",
              "      <td>0.28</td>\n",
              "      <td>0.56</td>\n",
              "      <td>1.9</td>\n",
              "      <td>0.075</td>\n",
              "      <td>17.0</td>\n",
              "      <td>60.0</td>\n",
              "      <td>0.9980</td>\n",
              "      <td>3.16</td>\n",
              "      <td>0.58</td>\n",
              "      <td>9.8</td>\n",
              "      <td>6</td>\n",
              "    </tr>\n",
              "    <tr>\n",
              "      <th>4</th>\n",
              "      <td>7.4</td>\n",
              "      <td>0.70</td>\n",
              "      <td>0.00</td>\n",
              "      <td>1.9</td>\n",
              "      <td>0.076</td>\n",
              "      <td>11.0</td>\n",
              "      <td>34.0</td>\n",
              "      <td>0.9978</td>\n",
              "      <td>3.51</td>\n",
              "      <td>0.56</td>\n",
              "      <td>9.4</td>\n",
              "      <td>5</td>\n",
              "    </tr>\n",
              "  </tbody>\n",
              "</table>\n",
              "</div>\n",
              "      <button class=\"colab-df-convert\" onclick=\"convertToInteractive('df-d29a294d-3aba-49b7-937d-10b7ce3f0d12')\"\n",
              "              title=\"Convert this dataframe to an interactive table.\"\n",
              "              style=\"display:none;\">\n",
              "        \n",
              "  <svg xmlns=\"http://www.w3.org/2000/svg\" height=\"24px\"viewBox=\"0 0 24 24\"\n",
              "       width=\"24px\">\n",
              "    <path d=\"M0 0h24v24H0V0z\" fill=\"none\"/>\n",
              "    <path d=\"M18.56 5.44l.94 2.06.94-2.06 2.06-.94-2.06-.94-.94-2.06-.94 2.06-2.06.94zm-11 1L8.5 8.5l.94-2.06 2.06-.94-2.06-.94L8.5 2.5l-.94 2.06-2.06.94zm10 10l.94 2.06.94-2.06 2.06-.94-2.06-.94-.94-2.06-.94 2.06-2.06.94z\"/><path d=\"M17.41 7.96l-1.37-1.37c-.4-.4-.92-.59-1.43-.59-.52 0-1.04.2-1.43.59L10.3 9.45l-7.72 7.72c-.78.78-.78 2.05 0 2.83L4 21.41c.39.39.9.59 1.41.59.51 0 1.02-.2 1.41-.59l7.78-7.78 2.81-2.81c.8-.78.8-2.07 0-2.86zM5.41 20L4 18.59l7.72-7.72 1.47 1.35L5.41 20z\"/>\n",
              "  </svg>\n",
              "      </button>\n",
              "      \n",
              "  <style>\n",
              "    .colab-df-container {\n",
              "      display:flex;\n",
              "      flex-wrap:wrap;\n",
              "      gap: 12px;\n",
              "    }\n",
              "\n",
              "    .colab-df-convert {\n",
              "      background-color: #E8F0FE;\n",
              "      border: none;\n",
              "      border-radius: 50%;\n",
              "      cursor: pointer;\n",
              "      display: none;\n",
              "      fill: #1967D2;\n",
              "      height: 32px;\n",
              "      padding: 0 0 0 0;\n",
              "      width: 32px;\n",
              "    }\n",
              "\n",
              "    .colab-df-convert:hover {\n",
              "      background-color: #E2EBFA;\n",
              "      box-shadow: 0px 1px 2px rgba(60, 64, 67, 0.3), 0px 1px 3px 1px rgba(60, 64, 67, 0.15);\n",
              "      fill: #174EA6;\n",
              "    }\n",
              "\n",
              "    [theme=dark] .colab-df-convert {\n",
              "      background-color: #3B4455;\n",
              "      fill: #D2E3FC;\n",
              "    }\n",
              "\n",
              "    [theme=dark] .colab-df-convert:hover {\n",
              "      background-color: #434B5C;\n",
              "      box-shadow: 0px 1px 3px 1px rgba(0, 0, 0, 0.15);\n",
              "      filter: drop-shadow(0px 1px 2px rgba(0, 0, 0, 0.3));\n",
              "      fill: #FFFFFF;\n",
              "    }\n",
              "  </style>\n",
              "\n",
              "      <script>\n",
              "        const buttonEl =\n",
              "          document.querySelector('#df-d29a294d-3aba-49b7-937d-10b7ce3f0d12 button.colab-df-convert');\n",
              "        buttonEl.style.display =\n",
              "          google.colab.kernel.accessAllowed ? 'block' : 'none';\n",
              "\n",
              "        async function convertToInteractive(key) {\n",
              "          const element = document.querySelector('#df-d29a294d-3aba-49b7-937d-10b7ce3f0d12');\n",
              "          const dataTable =\n",
              "            await google.colab.kernel.invokeFunction('convertToInteractive',\n",
              "                                                     [key], {});\n",
              "          if (!dataTable) return;\n",
              "\n",
              "          const docLinkHtml = 'Like what you see? Visit the ' +\n",
              "            '<a target=\"_blank\" href=https://colab.research.google.com/notebooks/data_table.ipynb>data table notebook</a>'\n",
              "            + ' to learn more about interactive tables.';\n",
              "          element.innerHTML = '';\n",
              "          dataTable['output_type'] = 'display_data';\n",
              "          await google.colab.output.renderOutput(dataTable, element);\n",
              "          const docLink = document.createElement('div');\n",
              "          docLink.innerHTML = docLinkHtml;\n",
              "          element.appendChild(docLink);\n",
              "        }\n",
              "      </script>\n",
              "    </div>\n",
              "  </div>\n",
              "  "
            ]
          },
          "metadata": {},
          "execution_count": 19
        }
      ],
      "source": [
        "wine.columns = wine.columns.str.replace(' ', '_')\n",
        "wine.head()"
      ]
    },
    {
      "cell_type": "code",
      "execution_count": null,
      "metadata": {
        "id": "CsQGhxz-C9xI",
        "colab": {
          "base_uri": "https://localhost:8080/"
        },
        "outputId": "1eca014e-bcfc-4c16-cf05-e6db0197dd14"
      },
      "outputs": [
        {
          "output_type": "execute_result",
          "data": {
            "text/plain": [
              "(11, 10)"
            ]
          },
          "metadata": {},
          "execution_count": 20
        }
      ],
      "source": [
        "wine.columns.get_loc('quality'), wine.columns.get_loc('alcohol')"
      ]
    },
    {
      "cell_type": "code",
      "execution_count": null,
      "metadata": {
        "id": "MJa9SVZYC9xI",
        "colab": {
          "base_uri": "https://localhost:8080/",
          "height": 81
        },
        "outputId": "ef60dcdd-3c1f-4a50-a671-e2bf42fe7e73"
      },
      "outputs": [
        {
          "output_type": "execute_result",
          "data": {
            "text/plain": [
              "   quality  alcohol  fixed_acidity  volatile_acidity  citric_acid  \\\n",
              "0        5      9.4            7.4               0.7          0.0   \n",
              "\n",
              "   residual_sugar  chlorides  free_sulfur_dioxide  total_sulfur_dioxide  \\\n",
              "0             1.9      0.076                 11.0                  34.0   \n",
              "\n",
              "   density    pH  sulphates  \n",
              "0   0.9978  3.51       0.56  "
            ],
            "text/html": [
              "\n",
              "  <div id=\"df-ff5813b0-25e9-4c40-9e71-a9ff8d115668\">\n",
              "    <div class=\"colab-df-container\">\n",
              "      <div>\n",
              "<style scoped>\n",
              "    .dataframe tbody tr th:only-of-type {\n",
              "        vertical-align: middle;\n",
              "    }\n",
              "\n",
              "    .dataframe tbody tr th {\n",
              "        vertical-align: top;\n",
              "    }\n",
              "\n",
              "    .dataframe thead th {\n",
              "        text-align: right;\n",
              "    }\n",
              "</style>\n",
              "<table border=\"1\" class=\"dataframe\">\n",
              "  <thead>\n",
              "    <tr style=\"text-align: right;\">\n",
              "      <th></th>\n",
              "      <th>quality</th>\n",
              "      <th>alcohol</th>\n",
              "      <th>fixed_acidity</th>\n",
              "      <th>volatile_acidity</th>\n",
              "      <th>citric_acid</th>\n",
              "      <th>residual_sugar</th>\n",
              "      <th>chlorides</th>\n",
              "      <th>free_sulfur_dioxide</th>\n",
              "      <th>total_sulfur_dioxide</th>\n",
              "      <th>density</th>\n",
              "      <th>pH</th>\n",
              "      <th>sulphates</th>\n",
              "    </tr>\n",
              "  </thead>\n",
              "  <tbody>\n",
              "    <tr>\n",
              "      <th>0</th>\n",
              "      <td>5</td>\n",
              "      <td>9.4</td>\n",
              "      <td>7.4</td>\n",
              "      <td>0.7</td>\n",
              "      <td>0.0</td>\n",
              "      <td>1.9</td>\n",
              "      <td>0.076</td>\n",
              "      <td>11.0</td>\n",
              "      <td>34.0</td>\n",
              "      <td>0.9978</td>\n",
              "      <td>3.51</td>\n",
              "      <td>0.56</td>\n",
              "    </tr>\n",
              "  </tbody>\n",
              "</table>\n",
              "</div>\n",
              "      <button class=\"colab-df-convert\" onclick=\"convertToInteractive('df-ff5813b0-25e9-4c40-9e71-a9ff8d115668')\"\n",
              "              title=\"Convert this dataframe to an interactive table.\"\n",
              "              style=\"display:none;\">\n",
              "        \n",
              "  <svg xmlns=\"http://www.w3.org/2000/svg\" height=\"24px\"viewBox=\"0 0 24 24\"\n",
              "       width=\"24px\">\n",
              "    <path d=\"M0 0h24v24H0V0z\" fill=\"none\"/>\n",
              "    <path d=\"M18.56 5.44l.94 2.06.94-2.06 2.06-.94-2.06-.94-.94-2.06-.94 2.06-2.06.94zm-11 1L8.5 8.5l.94-2.06 2.06-.94-2.06-.94L8.5 2.5l-.94 2.06-2.06.94zm10 10l.94 2.06.94-2.06 2.06-.94-2.06-.94-.94-2.06-.94 2.06-2.06.94z\"/><path d=\"M17.41 7.96l-1.37-1.37c-.4-.4-.92-.59-1.43-.59-.52 0-1.04.2-1.43.59L10.3 9.45l-7.72 7.72c-.78.78-.78 2.05 0 2.83L4 21.41c.39.39.9.59 1.41.59.51 0 1.02-.2 1.41-.59l7.78-7.78 2.81-2.81c.8-.78.8-2.07 0-2.86zM5.41 20L4 18.59l7.72-7.72 1.47 1.35L5.41 20z\"/>\n",
              "  </svg>\n",
              "      </button>\n",
              "      \n",
              "  <style>\n",
              "    .colab-df-container {\n",
              "      display:flex;\n",
              "      flex-wrap:wrap;\n",
              "      gap: 12px;\n",
              "    }\n",
              "\n",
              "    .colab-df-convert {\n",
              "      background-color: #E8F0FE;\n",
              "      border: none;\n",
              "      border-radius: 50%;\n",
              "      cursor: pointer;\n",
              "      display: none;\n",
              "      fill: #1967D2;\n",
              "      height: 32px;\n",
              "      padding: 0 0 0 0;\n",
              "      width: 32px;\n",
              "    }\n",
              "\n",
              "    .colab-df-convert:hover {\n",
              "      background-color: #E2EBFA;\n",
              "      box-shadow: 0px 1px 2px rgba(60, 64, 67, 0.3), 0px 1px 3px 1px rgba(60, 64, 67, 0.15);\n",
              "      fill: #174EA6;\n",
              "    }\n",
              "\n",
              "    [theme=dark] .colab-df-convert {\n",
              "      background-color: #3B4455;\n",
              "      fill: #D2E3FC;\n",
              "    }\n",
              "\n",
              "    [theme=dark] .colab-df-convert:hover {\n",
              "      background-color: #434B5C;\n",
              "      box-shadow: 0px 1px 3px 1px rgba(0, 0, 0, 0.15);\n",
              "      filter: drop-shadow(0px 1px 2px rgba(0, 0, 0, 0.3));\n",
              "      fill: #FFFFFF;\n",
              "    }\n",
              "  </style>\n",
              "\n",
              "      <script>\n",
              "        const buttonEl =\n",
              "          document.querySelector('#df-ff5813b0-25e9-4c40-9e71-a9ff8d115668 button.colab-df-convert');\n",
              "        buttonEl.style.display =\n",
              "          google.colab.kernel.accessAllowed ? 'block' : 'none';\n",
              "\n",
              "        async function convertToInteractive(key) {\n",
              "          const element = document.querySelector('#df-ff5813b0-25e9-4c40-9e71-a9ff8d115668');\n",
              "          const dataTable =\n",
              "            await google.colab.kernel.invokeFunction('convertToInteractive',\n",
              "                                                     [key], {});\n",
              "          if (!dataTable) return;\n",
              "\n",
              "          const docLinkHtml = 'Like what you see? Visit the ' +\n",
              "            '<a target=\"_blank\" href=https://colab.research.google.com/notebooks/data_table.ipynb>data table notebook</a>'\n",
              "            + ' to learn more about interactive tables.';\n",
              "          element.innerHTML = '';\n",
              "          dataTable['output_type'] = 'display_data';\n",
              "          await google.colab.output.renderOutput(dataTable, element);\n",
              "          const docLink = document.createElement('div');\n",
              "          docLink.innerHTML = docLinkHtml;\n",
              "          element.appendChild(docLink);\n",
              "        }\n",
              "      </script>\n",
              "    </div>\n",
              "  </div>\n",
              "  "
            ]
          },
          "metadata": {},
          "execution_count": 21
        }
      ],
      "source": [
        "new_order = [11,10] + list(range(10))\n",
        "wine = wine[wine.columns[new_order]]\n",
        "wine.head(1)"
      ]
    },
    {
      "cell_type": "markdown",
      "metadata": {
        "id": "hYNydSXcC9xJ"
      },
      "source": [
        "### 3.2 Remove duplicates"
      ]
    },
    {
      "cell_type": "code",
      "execution_count": null,
      "metadata": {
        "id": "bAythmTSC9xJ",
        "colab": {
          "base_uri": "https://localhost:8080/"
        },
        "outputId": "39d0687d-e1f9-4e7f-93a4-98e64f2f6f32"
      },
      "outputs": [
        {
          "output_type": "stream",
          "name": "stdout",
          "text": [
            "Number of rows before removing duplicates = 1599\n",
            "Duplicated rows:\n",
            " 0       False\n",
            "1       False\n",
            "2       False\n",
            "3       False\n",
            "4        True\n",
            "        ...  \n",
            "1594    False\n",
            "1595    False\n",
            "1596     True\n",
            "1597    False\n",
            "1598    False\n",
            "Length: 1599, dtype: bool\n"
          ]
        }
      ],
      "source": [
        "print('Number of rows before removing duplicates =', wine.shape[0])\n",
        "print('Duplicated rows:\\n', wine.duplicated())"
      ]
    },
    {
      "cell_type": "code",
      "execution_count": null,
      "metadata": {
        "id": "UwkVcaQZC9xJ",
        "colab": {
          "base_uri": "https://localhost:8080/"
        },
        "outputId": "eb37ab3f-6808-455d-d276-271ee4d3b178"
      },
      "outputs": [
        {
          "output_type": "stream",
          "name": "stdout",
          "text": [
            "Number of duplicated rows= 240\n",
            "Number of rows after removing duplicates =  1359\n"
          ]
        }
      ],
      "source": [
        "print('Number of duplicated rows=', wine.duplicated().sum())\n",
        "wine.drop_duplicates(inplace=True)\n",
        "wine.reset_index(drop=True, inplace=True)\n",
        "print('Number of rows after removing duplicates = ', len(wine))"
      ]
    },
    {
      "cell_type": "code",
      "execution_count": null,
      "metadata": {
        "id": "L-bUMbeKC9xJ",
        "colab": {
          "base_uri": "https://localhost:8080/"
        },
        "outputId": "939a2340-5b94-4cc1-823d-5f4b2cf9f7d9"
      },
      "outputs": [
        {
          "output_type": "stream",
          "name": "stdout",
          "text": [
            "Number of duplicated rows =  0\n"
          ]
        }
      ],
      "source": [
        "wine_2 = wine.copy()\n",
        "wine_2.drop('quality', axis=1, inplace=True)\n",
        "print('Number of duplicated rows = ', wine_2.duplicated().sum())"
      ]
    },
    {
      "cell_type": "markdown",
      "metadata": {
        "id": "jMnm8BRiC9xJ"
      },
      "source": [
        "### 3.3 Save .csv file to disk"
      ]
    },
    {
      "cell_type": "code",
      "execution_count": null,
      "metadata": {
        "id": "kKzwIE4KC9xJ"
      },
      "outputs": [],
      "source": [
        "wine.to_csv('red_wine.csv', index=False)"
      ]
    },
    {
      "cell_type": "markdown",
      "metadata": {
        "id": "e7Zyc3n-C9xK"
      },
      "source": [
        "## Task 4. Performing Exploratory Data Analysis (part 1)"
      ]
    },
    {
      "cell_type": "markdown",
      "metadata": {
        "id": "6MsnzkJWC9xK"
      },
      "source": [
        "### 4.1 Statistics"
      ]
    },
    {
      "cell_type": "code",
      "execution_count": null,
      "metadata": {
        "id": "HfB1P1U2C9xK",
        "colab": {
          "base_uri": "https://localhost:8080/"
        },
        "outputId": "8a899883-e4db-4e49-d4de-c17df8041ab0"
      },
      "outputs": [
        {
          "output_type": "stream",
          "name": "stdout",
          "text": [
            "Number of rows = 1359, Number of columns= 12 \n"
          ]
        },
        {
          "output_type": "execute_result",
          "data": {
            "text/plain": [
              "   quality  alcohol  fixed_acidity  volatile_acidity  citric_acid  \\\n",
              "0        5      9.4            7.4              0.70         0.00   \n",
              "1        5      9.8            7.8              0.88         0.00   \n",
              "2        5      9.8            7.8              0.76         0.04   \n",
              "3        6      9.8           11.2              0.28         0.56   \n",
              "4        5      9.4            7.4              0.66         0.00   \n",
              "\n",
              "   residual_sugar  chlorides  free_sulfur_dioxide  total_sulfur_dioxide  \\\n",
              "0             1.9      0.076                 11.0                  34.0   \n",
              "1             2.6      0.098                 25.0                  67.0   \n",
              "2             2.3      0.092                 15.0                  54.0   \n",
              "3             1.9      0.075                 17.0                  60.0   \n",
              "4             1.8      0.075                 13.0                  40.0   \n",
              "\n",
              "   density    pH  sulphates  \n",
              "0   0.9978  3.51       0.56  \n",
              "1   0.9968  3.20       0.68  \n",
              "2   0.9970  3.26       0.65  \n",
              "3   0.9980  3.16       0.58  \n",
              "4   0.9978  3.51       0.56  "
            ],
            "text/html": [
              "\n",
              "  <div id=\"df-69cc3cd0-5e66-401b-9460-5ae9b9ae509d\">\n",
              "    <div class=\"colab-df-container\">\n",
              "      <div>\n",
              "<style scoped>\n",
              "    .dataframe tbody tr th:only-of-type {\n",
              "        vertical-align: middle;\n",
              "    }\n",
              "\n",
              "    .dataframe tbody tr th {\n",
              "        vertical-align: top;\n",
              "    }\n",
              "\n",
              "    .dataframe thead th {\n",
              "        text-align: right;\n",
              "    }\n",
              "</style>\n",
              "<table border=\"1\" class=\"dataframe\">\n",
              "  <thead>\n",
              "    <tr style=\"text-align: right;\">\n",
              "      <th></th>\n",
              "      <th>quality</th>\n",
              "      <th>alcohol</th>\n",
              "      <th>fixed_acidity</th>\n",
              "      <th>volatile_acidity</th>\n",
              "      <th>citric_acid</th>\n",
              "      <th>residual_sugar</th>\n",
              "      <th>chlorides</th>\n",
              "      <th>free_sulfur_dioxide</th>\n",
              "      <th>total_sulfur_dioxide</th>\n",
              "      <th>density</th>\n",
              "      <th>pH</th>\n",
              "      <th>sulphates</th>\n",
              "    </tr>\n",
              "  </thead>\n",
              "  <tbody>\n",
              "    <tr>\n",
              "      <th>0</th>\n",
              "      <td>5</td>\n",
              "      <td>9.4</td>\n",
              "      <td>7.4</td>\n",
              "      <td>0.70</td>\n",
              "      <td>0.00</td>\n",
              "      <td>1.9</td>\n",
              "      <td>0.076</td>\n",
              "      <td>11.0</td>\n",
              "      <td>34.0</td>\n",
              "      <td>0.9978</td>\n",
              "      <td>3.51</td>\n",
              "      <td>0.56</td>\n",
              "    </tr>\n",
              "    <tr>\n",
              "      <th>1</th>\n",
              "      <td>5</td>\n",
              "      <td>9.8</td>\n",
              "      <td>7.8</td>\n",
              "      <td>0.88</td>\n",
              "      <td>0.00</td>\n",
              "      <td>2.6</td>\n",
              "      <td>0.098</td>\n",
              "      <td>25.0</td>\n",
              "      <td>67.0</td>\n",
              "      <td>0.9968</td>\n",
              "      <td>3.20</td>\n",
              "      <td>0.68</td>\n",
              "    </tr>\n",
              "    <tr>\n",
              "      <th>2</th>\n",
              "      <td>5</td>\n",
              "      <td>9.8</td>\n",
              "      <td>7.8</td>\n",
              "      <td>0.76</td>\n",
              "      <td>0.04</td>\n",
              "      <td>2.3</td>\n",
              "      <td>0.092</td>\n",
              "      <td>15.0</td>\n",
              "      <td>54.0</td>\n",
              "      <td>0.9970</td>\n",
              "      <td>3.26</td>\n",
              "      <td>0.65</td>\n",
              "    </tr>\n",
              "    <tr>\n",
              "      <th>3</th>\n",
              "      <td>6</td>\n",
              "      <td>9.8</td>\n",
              "      <td>11.2</td>\n",
              "      <td>0.28</td>\n",
              "      <td>0.56</td>\n",
              "      <td>1.9</td>\n",
              "      <td>0.075</td>\n",
              "      <td>17.0</td>\n",
              "      <td>60.0</td>\n",
              "      <td>0.9980</td>\n",
              "      <td>3.16</td>\n",
              "      <td>0.58</td>\n",
              "    </tr>\n",
              "    <tr>\n",
              "      <th>4</th>\n",
              "      <td>5</td>\n",
              "      <td>9.4</td>\n",
              "      <td>7.4</td>\n",
              "      <td>0.66</td>\n",
              "      <td>0.00</td>\n",
              "      <td>1.8</td>\n",
              "      <td>0.075</td>\n",
              "      <td>13.0</td>\n",
              "      <td>40.0</td>\n",
              "      <td>0.9978</td>\n",
              "      <td>3.51</td>\n",
              "      <td>0.56</td>\n",
              "    </tr>\n",
              "  </tbody>\n",
              "</table>\n",
              "</div>\n",
              "      <button class=\"colab-df-convert\" onclick=\"convertToInteractive('df-69cc3cd0-5e66-401b-9460-5ae9b9ae509d')\"\n",
              "              title=\"Convert this dataframe to an interactive table.\"\n",
              "              style=\"display:none;\">\n",
              "        \n",
              "  <svg xmlns=\"http://www.w3.org/2000/svg\" height=\"24px\"viewBox=\"0 0 24 24\"\n",
              "       width=\"24px\">\n",
              "    <path d=\"M0 0h24v24H0V0z\" fill=\"none\"/>\n",
              "    <path d=\"M18.56 5.44l.94 2.06.94-2.06 2.06-.94-2.06-.94-.94-2.06-.94 2.06-2.06.94zm-11 1L8.5 8.5l.94-2.06 2.06-.94-2.06-.94L8.5 2.5l-.94 2.06-2.06.94zm10 10l.94 2.06.94-2.06 2.06-.94-2.06-.94-.94-2.06-.94 2.06-2.06.94z\"/><path d=\"M17.41 7.96l-1.37-1.37c-.4-.4-.92-.59-1.43-.59-.52 0-1.04.2-1.43.59L10.3 9.45l-7.72 7.72c-.78.78-.78 2.05 0 2.83L4 21.41c.39.39.9.59 1.41.59.51 0 1.02-.2 1.41-.59l7.78-7.78 2.81-2.81c.8-.78.8-2.07 0-2.86zM5.41 20L4 18.59l7.72-7.72 1.47 1.35L5.41 20z\"/>\n",
              "  </svg>\n",
              "      </button>\n",
              "      \n",
              "  <style>\n",
              "    .colab-df-container {\n",
              "      display:flex;\n",
              "      flex-wrap:wrap;\n",
              "      gap: 12px;\n",
              "    }\n",
              "\n",
              "    .colab-df-convert {\n",
              "      background-color: #E8F0FE;\n",
              "      border: none;\n",
              "      border-radius: 50%;\n",
              "      cursor: pointer;\n",
              "      display: none;\n",
              "      fill: #1967D2;\n",
              "      height: 32px;\n",
              "      padding: 0 0 0 0;\n",
              "      width: 32px;\n",
              "    }\n",
              "\n",
              "    .colab-df-convert:hover {\n",
              "      background-color: #E2EBFA;\n",
              "      box-shadow: 0px 1px 2px rgba(60, 64, 67, 0.3), 0px 1px 3px 1px rgba(60, 64, 67, 0.15);\n",
              "      fill: #174EA6;\n",
              "    }\n",
              "\n",
              "    [theme=dark] .colab-df-convert {\n",
              "      background-color: #3B4455;\n",
              "      fill: #D2E3FC;\n",
              "    }\n",
              "\n",
              "    [theme=dark] .colab-df-convert:hover {\n",
              "      background-color: #434B5C;\n",
              "      box-shadow: 0px 1px 3px 1px rgba(0, 0, 0, 0.15);\n",
              "      filter: drop-shadow(0px 1px 2px rgba(0, 0, 0, 0.3));\n",
              "      fill: #FFFFFF;\n",
              "    }\n",
              "  </style>\n",
              "\n",
              "      <script>\n",
              "        const buttonEl =\n",
              "          document.querySelector('#df-69cc3cd0-5e66-401b-9460-5ae9b9ae509d button.colab-df-convert');\n",
              "        buttonEl.style.display =\n",
              "          google.colab.kernel.accessAllowed ? 'block' : 'none';\n",
              "\n",
              "        async function convertToInteractive(key) {\n",
              "          const element = document.querySelector('#df-69cc3cd0-5e66-401b-9460-5ae9b9ae509d');\n",
              "          const dataTable =\n",
              "            await google.colab.kernel.invokeFunction('convertToInteractive',\n",
              "                                                     [key], {});\n",
              "          if (!dataTable) return;\n",
              "\n",
              "          const docLinkHtml = 'Like what you see? Visit the ' +\n",
              "            '<a target=\"_blank\" href=https://colab.research.google.com/notebooks/data_table.ipynb>data table notebook</a>'\n",
              "            + ' to learn more about interactive tables.';\n",
              "          element.innerHTML = '';\n",
              "          dataTable['output_type'] = 'display_data';\n",
              "          await google.colab.output.renderOutput(dataTable, element);\n",
              "          const docLink = document.createElement('div');\n",
              "          docLink.innerHTML = docLinkHtml;\n",
              "          element.appendChild(docLink);\n",
              "        }\n",
              "      </script>\n",
              "    </div>\n",
              "  </div>\n",
              "  "
            ]
          },
          "metadata": {},
          "execution_count": 26
        }
      ],
      "source": [
        "print ('Number of rows = {}, Number of columns= {} '.format(wine.shape[0], wine.shape[1]))\n",
        "wine.head()"
      ]
    },
    {
      "cell_type": "code",
      "execution_count": null,
      "metadata": {
        "id": "wSazgjL6C9xK",
        "colab": {
          "base_uri": "https://localhost:8080/"
        },
        "outputId": "ed9a5beb-ccd2-4b7f-dd30-bfefb22548aa"
      },
      "outputs": [
        {
          "output_type": "stream",
          "name": "stdout",
          "text": [
            "<class 'pandas.core.frame.DataFrame'>\n",
            "RangeIndex: 1359 entries, 0 to 1358\n",
            "Data columns (total 12 columns):\n",
            " #   Column                Non-Null Count  Dtype  \n",
            "---  ------                --------------  -----  \n",
            " 0   quality               1359 non-null   int64  \n",
            " 1   alcohol               1359 non-null   float64\n",
            " 2   fixed_acidity         1359 non-null   float64\n",
            " 3   volatile_acidity      1359 non-null   float64\n",
            " 4   citric_acid           1359 non-null   float64\n",
            " 5   residual_sugar        1359 non-null   float64\n",
            " 6   chlorides             1359 non-null   float64\n",
            " 7   free_sulfur_dioxide   1359 non-null   float64\n",
            " 8   total_sulfur_dioxide  1359 non-null   float64\n",
            " 9   density               1359 non-null   float64\n",
            " 10  pH                    1359 non-null   float64\n",
            " 11  sulphates             1359 non-null   float64\n",
            "dtypes: float64(11), int64(1)\n",
            "memory usage: 127.5 KB\n"
          ]
        }
      ],
      "source": [
        "wine.info()"
      ]
    },
    {
      "cell_type": "code",
      "execution_count": null,
      "metadata": {
        "id": "s39v07vQC9xK",
        "colab": {
          "base_uri": "https://localhost:8080/"
        },
        "outputId": "106fa783-0022-4d25-8206-3b8122ede16b"
      },
      "outputs": [
        {
          "output_type": "execute_result",
          "data": {
            "text/plain": [
              "quality                 0\n",
              "alcohol                 0\n",
              "fixed_acidity           0\n",
              "volatile_acidity        0\n",
              "citric_acid             0\n",
              "residual_sugar          0\n",
              "chlorides               0\n",
              "free_sulfur_dioxide     0\n",
              "total_sulfur_dioxide    0\n",
              "density                 0\n",
              "pH                      0\n",
              "sulphates               0\n",
              "dtype: int64"
            ]
          },
          "metadata": {},
          "execution_count": 28
        }
      ],
      "source": [
        "#To get the missing values for the entire data frame. The .isna() returns a mask of values for each element in the data frame,\n",
        "# that indicates if an element is an na value\n",
        "#wine.isna()\n",
        "#The total number of missing values in the data frame \n",
        "wine.isna().sum()"
      ]
    },
    {
      "cell_type": "code",
      "execution_count": null,
      "metadata": {
        "id": "qFJLSq9qC9xK",
        "colab": {
          "base_uri": "https://localhost:8080/"
        },
        "outputId": "87719b25-4308-478d-91b5-88229d418c01"
      },
      "outputs": [
        {
          "output_type": "execute_result",
          "data": {
            "text/plain": [
              "0"
            ]
          },
          "metadata": {},
          "execution_count": 29
        }
      ],
      "source": [
        "wine.isna().sum().sum()"
      ]
    },
    {
      "cell_type": "code",
      "execution_count": null,
      "metadata": {
        "id": "xl2SAUpxC9xL",
        "colab": {
          "base_uri": "https://localhost:8080/"
        },
        "outputId": "b0909066-3845-4276-dfc4-a1ccb3713659"
      },
      "outputs": [
        {
          "output_type": "execute_result",
          "data": {
            "text/plain": [
              "5    577\n",
              "6    535\n",
              "7    167\n",
              "4     53\n",
              "8     17\n",
              "3     10\n",
              "Name: quality, dtype: int64"
            ]
          },
          "metadata": {},
          "execution_count": 30
        }
      ],
      "source": [
        "#The number of observations grouped by quality\n",
        "wine.quality.value_counts(sort=False)"
      ]
    },
    {
      "cell_type": "code",
      "execution_count": null,
      "metadata": {
        "id": "tYN4bZYAC9xL",
        "colab": {
          "base_uri": "https://localhost:8080/"
        },
        "outputId": "4d566436-1e1e-404c-d9a4-122d4edc3291"
      },
      "outputs": [
        {
          "output_type": "execute_result",
          "data": {
            "text/plain": [
              "5    577\n",
              "6    535\n",
              "7    167\n",
              "4     53\n",
              "8     17\n",
              "3     10\n",
              "Name: quality, dtype: int64"
            ]
          },
          "metadata": {},
          "execution_count": 31
        }
      ],
      "source": [
        "wine['quality'].value_counts(sort=False)"
      ]
    },
    {
      "cell_type": "code",
      "execution_count": null,
      "metadata": {
        "id": "VnmukgPZC9xL",
        "colab": {
          "base_uri": "https://localhost:8080/"
        },
        "outputId": "78c53dff-d83c-4c5c-c92b-804b43fea379"
      },
      "outputs": [
        {
          "output_type": "execute_result",
          "data": {
            "text/plain": [
              "5    577\n",
              "6    535\n",
              "7    167\n",
              "4     53\n",
              "8     17\n",
              "3     10\n",
              "Name: quality, dtype: int64"
            ]
          },
          "metadata": {},
          "execution_count": 32
        }
      ],
      "source": [
        "wine.quality.value_counts()"
      ]
    },
    {
      "cell_type": "code",
      "execution_count": null,
      "metadata": {
        "id": "kvFetc3jC9xL",
        "colab": {
          "base_uri": "https://localhost:8080/"
        },
        "outputId": "4920d68e-fa13-4c80-e8e6-af4b1d20c82a"
      },
      "outputs": [
        {
          "output_type": "execute_result",
          "data": {
            "text/plain": [
              "quality\n",
              "3     10\n",
              "4     53\n",
              "5    577\n",
              "6    535\n",
              "7    167\n",
              "8     17\n",
              "Name: quality, dtype: int64"
            ]
          },
          "metadata": {},
          "execution_count": 33
        }
      ],
      "source": [
        "wine.groupby('quality').quality.count()"
      ]
    },
    {
      "cell_type": "code",
      "execution_count": null,
      "metadata": {
        "id": "jzN1IofgC9xL",
        "colab": {
          "base_uri": "https://localhost:8080/"
        },
        "outputId": "0a09eccc-e3b5-4841-a651-4601a42bed17"
      },
      "outputs": [
        {
          "output_type": "execute_result",
          "data": {
            "text/plain": [
              "           quality      alcohol  fixed_acidity  volatile_acidity  citric_acid  \\\n",
              "count  1359.000000  1359.000000    1359.000000       1359.000000  1359.000000   \n",
              "mean      5.623252    10.432315       8.310596          0.529478     0.272333   \n",
              "std       0.823578     1.082065       1.736990          0.183031     0.195537   \n",
              "min       3.000000     8.400000       4.600000          0.120000     0.000000   \n",
              "25%       5.000000     9.500000       7.100000          0.390000     0.090000   \n",
              "50%       6.000000    10.200000       7.900000          0.520000     0.260000   \n",
              "75%       6.000000    11.100000       9.200000          0.640000     0.430000   \n",
              "max       8.000000    14.900000      15.900000          1.580000     1.000000   \n",
              "\n",
              "       residual_sugar    chlorides  free_sulfur_dioxide  total_sulfur_dioxide  \\\n",
              "count     1359.000000  1359.000000          1359.000000           1359.000000   \n",
              "mean         2.523400     0.088124            15.893304             46.825975   \n",
              "std          1.352314     0.049377            10.447270             33.408946   \n",
              "min          0.900000     0.012000             1.000000              6.000000   \n",
              "25%          1.900000     0.070000             7.000000             22.000000   \n",
              "50%          2.200000     0.079000            14.000000             38.000000   \n",
              "75%          2.600000     0.091000            21.000000             63.000000   \n",
              "max         15.500000     0.611000            72.000000            289.000000   \n",
              "\n",
              "           density           pH    sulphates  \n",
              "count  1359.000000  1359.000000  1359.000000  \n",
              "mean      0.996709     3.309787     0.658705  \n",
              "std       0.001869     0.155036     0.170667  \n",
              "min       0.990070     2.740000     0.330000  \n",
              "25%       0.995600     3.210000     0.550000  \n",
              "50%       0.996700     3.310000     0.620000  \n",
              "75%       0.997820     3.400000     0.730000  \n",
              "max       1.003690     4.010000     2.000000  "
            ],
            "text/html": [
              "\n",
              "  <div id=\"df-0f918166-29b1-40d2-942b-1b5e905b03b6\">\n",
              "    <div class=\"colab-df-container\">\n",
              "      <div>\n",
              "<style scoped>\n",
              "    .dataframe tbody tr th:only-of-type {\n",
              "        vertical-align: middle;\n",
              "    }\n",
              "\n",
              "    .dataframe tbody tr th {\n",
              "        vertical-align: top;\n",
              "    }\n",
              "\n",
              "    .dataframe thead th {\n",
              "        text-align: right;\n",
              "    }\n",
              "</style>\n",
              "<table border=\"1\" class=\"dataframe\">\n",
              "  <thead>\n",
              "    <tr style=\"text-align: right;\">\n",
              "      <th></th>\n",
              "      <th>quality</th>\n",
              "      <th>alcohol</th>\n",
              "      <th>fixed_acidity</th>\n",
              "      <th>volatile_acidity</th>\n",
              "      <th>citric_acid</th>\n",
              "      <th>residual_sugar</th>\n",
              "      <th>chlorides</th>\n",
              "      <th>free_sulfur_dioxide</th>\n",
              "      <th>total_sulfur_dioxide</th>\n",
              "      <th>density</th>\n",
              "      <th>pH</th>\n",
              "      <th>sulphates</th>\n",
              "    </tr>\n",
              "  </thead>\n",
              "  <tbody>\n",
              "    <tr>\n",
              "      <th>count</th>\n",
              "      <td>1359.000000</td>\n",
              "      <td>1359.000000</td>\n",
              "      <td>1359.000000</td>\n",
              "      <td>1359.000000</td>\n",
              "      <td>1359.000000</td>\n",
              "      <td>1359.000000</td>\n",
              "      <td>1359.000000</td>\n",
              "      <td>1359.000000</td>\n",
              "      <td>1359.000000</td>\n",
              "      <td>1359.000000</td>\n",
              "      <td>1359.000000</td>\n",
              "      <td>1359.000000</td>\n",
              "    </tr>\n",
              "    <tr>\n",
              "      <th>mean</th>\n",
              "      <td>5.623252</td>\n",
              "      <td>10.432315</td>\n",
              "      <td>8.310596</td>\n",
              "      <td>0.529478</td>\n",
              "      <td>0.272333</td>\n",
              "      <td>2.523400</td>\n",
              "      <td>0.088124</td>\n",
              "      <td>15.893304</td>\n",
              "      <td>46.825975</td>\n",
              "      <td>0.996709</td>\n",
              "      <td>3.309787</td>\n",
              "      <td>0.658705</td>\n",
              "    </tr>\n",
              "    <tr>\n",
              "      <th>std</th>\n",
              "      <td>0.823578</td>\n",
              "      <td>1.082065</td>\n",
              "      <td>1.736990</td>\n",
              "      <td>0.183031</td>\n",
              "      <td>0.195537</td>\n",
              "      <td>1.352314</td>\n",
              "      <td>0.049377</td>\n",
              "      <td>10.447270</td>\n",
              "      <td>33.408946</td>\n",
              "      <td>0.001869</td>\n",
              "      <td>0.155036</td>\n",
              "      <td>0.170667</td>\n",
              "    </tr>\n",
              "    <tr>\n",
              "      <th>min</th>\n",
              "      <td>3.000000</td>\n",
              "      <td>8.400000</td>\n",
              "      <td>4.600000</td>\n",
              "      <td>0.120000</td>\n",
              "      <td>0.000000</td>\n",
              "      <td>0.900000</td>\n",
              "      <td>0.012000</td>\n",
              "      <td>1.000000</td>\n",
              "      <td>6.000000</td>\n",
              "      <td>0.990070</td>\n",
              "      <td>2.740000</td>\n",
              "      <td>0.330000</td>\n",
              "    </tr>\n",
              "    <tr>\n",
              "      <th>25%</th>\n",
              "      <td>5.000000</td>\n",
              "      <td>9.500000</td>\n",
              "      <td>7.100000</td>\n",
              "      <td>0.390000</td>\n",
              "      <td>0.090000</td>\n",
              "      <td>1.900000</td>\n",
              "      <td>0.070000</td>\n",
              "      <td>7.000000</td>\n",
              "      <td>22.000000</td>\n",
              "      <td>0.995600</td>\n",
              "      <td>3.210000</td>\n",
              "      <td>0.550000</td>\n",
              "    </tr>\n",
              "    <tr>\n",
              "      <th>50%</th>\n",
              "      <td>6.000000</td>\n",
              "      <td>10.200000</td>\n",
              "      <td>7.900000</td>\n",
              "      <td>0.520000</td>\n",
              "      <td>0.260000</td>\n",
              "      <td>2.200000</td>\n",
              "      <td>0.079000</td>\n",
              "      <td>14.000000</td>\n",
              "      <td>38.000000</td>\n",
              "      <td>0.996700</td>\n",
              "      <td>3.310000</td>\n",
              "      <td>0.620000</td>\n",
              "    </tr>\n",
              "    <tr>\n",
              "      <th>75%</th>\n",
              "      <td>6.000000</td>\n",
              "      <td>11.100000</td>\n",
              "      <td>9.200000</td>\n",
              "      <td>0.640000</td>\n",
              "      <td>0.430000</td>\n",
              "      <td>2.600000</td>\n",
              "      <td>0.091000</td>\n",
              "      <td>21.000000</td>\n",
              "      <td>63.000000</td>\n",
              "      <td>0.997820</td>\n",
              "      <td>3.400000</td>\n",
              "      <td>0.730000</td>\n",
              "    </tr>\n",
              "    <tr>\n",
              "      <th>max</th>\n",
              "      <td>8.000000</td>\n",
              "      <td>14.900000</td>\n",
              "      <td>15.900000</td>\n",
              "      <td>1.580000</td>\n",
              "      <td>1.000000</td>\n",
              "      <td>15.500000</td>\n",
              "      <td>0.611000</td>\n",
              "      <td>72.000000</td>\n",
              "      <td>289.000000</td>\n",
              "      <td>1.003690</td>\n",
              "      <td>4.010000</td>\n",
              "      <td>2.000000</td>\n",
              "    </tr>\n",
              "  </tbody>\n",
              "</table>\n",
              "</div>\n",
              "      <button class=\"colab-df-convert\" onclick=\"convertToInteractive('df-0f918166-29b1-40d2-942b-1b5e905b03b6')\"\n",
              "              title=\"Convert this dataframe to an interactive table.\"\n",
              "              style=\"display:none;\">\n",
              "        \n",
              "  <svg xmlns=\"http://www.w3.org/2000/svg\" height=\"24px\"viewBox=\"0 0 24 24\"\n",
              "       width=\"24px\">\n",
              "    <path d=\"M0 0h24v24H0V0z\" fill=\"none\"/>\n",
              "    <path d=\"M18.56 5.44l.94 2.06.94-2.06 2.06-.94-2.06-.94-.94-2.06-.94 2.06-2.06.94zm-11 1L8.5 8.5l.94-2.06 2.06-.94-2.06-.94L8.5 2.5l-.94 2.06-2.06.94zm10 10l.94 2.06.94-2.06 2.06-.94-2.06-.94-.94-2.06-.94 2.06-2.06.94z\"/><path d=\"M17.41 7.96l-1.37-1.37c-.4-.4-.92-.59-1.43-.59-.52 0-1.04.2-1.43.59L10.3 9.45l-7.72 7.72c-.78.78-.78 2.05 0 2.83L4 21.41c.39.39.9.59 1.41.59.51 0 1.02-.2 1.41-.59l7.78-7.78 2.81-2.81c.8-.78.8-2.07 0-2.86zM5.41 20L4 18.59l7.72-7.72 1.47 1.35L5.41 20z\"/>\n",
              "  </svg>\n",
              "      </button>\n",
              "      \n",
              "  <style>\n",
              "    .colab-df-container {\n",
              "      display:flex;\n",
              "      flex-wrap:wrap;\n",
              "      gap: 12px;\n",
              "    }\n",
              "\n",
              "    .colab-df-convert {\n",
              "      background-color: #E8F0FE;\n",
              "      border: none;\n",
              "      border-radius: 50%;\n",
              "      cursor: pointer;\n",
              "      display: none;\n",
              "      fill: #1967D2;\n",
              "      height: 32px;\n",
              "      padding: 0 0 0 0;\n",
              "      width: 32px;\n",
              "    }\n",
              "\n",
              "    .colab-df-convert:hover {\n",
              "      background-color: #E2EBFA;\n",
              "      box-shadow: 0px 1px 2px rgba(60, 64, 67, 0.3), 0px 1px 3px 1px rgba(60, 64, 67, 0.15);\n",
              "      fill: #174EA6;\n",
              "    }\n",
              "\n",
              "    [theme=dark] .colab-df-convert {\n",
              "      background-color: #3B4455;\n",
              "      fill: #D2E3FC;\n",
              "    }\n",
              "\n",
              "    [theme=dark] .colab-df-convert:hover {\n",
              "      background-color: #434B5C;\n",
              "      box-shadow: 0px 1px 3px 1px rgba(0, 0, 0, 0.15);\n",
              "      filter: drop-shadow(0px 1px 2px rgba(0, 0, 0, 0.3));\n",
              "      fill: #FFFFFF;\n",
              "    }\n",
              "  </style>\n",
              "\n",
              "      <script>\n",
              "        const buttonEl =\n",
              "          document.querySelector('#df-0f918166-29b1-40d2-942b-1b5e905b03b6 button.colab-df-convert');\n",
              "        buttonEl.style.display =\n",
              "          google.colab.kernel.accessAllowed ? 'block' : 'none';\n",
              "\n",
              "        async function convertToInteractive(key) {\n",
              "          const element = document.querySelector('#df-0f918166-29b1-40d2-942b-1b5e905b03b6');\n",
              "          const dataTable =\n",
              "            await google.colab.kernel.invokeFunction('convertToInteractive',\n",
              "                                                     [key], {});\n",
              "          if (!dataTable) return;\n",
              "\n",
              "          const docLinkHtml = 'Like what you see? Visit the ' +\n",
              "            '<a target=\"_blank\" href=https://colab.research.google.com/notebooks/data_table.ipynb>data table notebook</a>'\n",
              "            + ' to learn more about interactive tables.';\n",
              "          element.innerHTML = '';\n",
              "          dataTable['output_type'] = 'display_data';\n",
              "          await google.colab.output.renderOutput(dataTable, element);\n",
              "          const docLink = document.createElement('div');\n",
              "          docLink.innerHTML = docLinkHtml;\n",
              "          element.appendChild(docLink);\n",
              "        }\n",
              "      </script>\n",
              "    </div>\n",
              "  </div>\n",
              "  "
            ]
          },
          "metadata": {},
          "execution_count": 34
        }
      ],
      "source": [
        "#Getting desccriptive statistic\n",
        "wine.describe()"
      ]
    },
    {
      "cell_type": "code",
      "execution_count": null,
      "metadata": {
        "id": "viHVI_lbC9xL"
      },
      "outputs": [],
      "source": [
        ""
      ]
    },
    {
      "cell_type": "code",
      "execution_count": null,
      "metadata": {
        "id": "wpwMbsYTC9xL"
      },
      "outputs": [],
      "source": [
        ""
      ]
    },
    {
      "cell_type": "markdown",
      "metadata": {
        "id": "g2C6cLp5C9xL"
      },
      "source": [
        "### 4.2 Histogram of wine quality with 6 classes"
      ]
    },
    {
      "cell_type": "markdown",
      "metadata": {
        "id": "tMasUPRrC9xM"
      },
      "source": [
        "<img src='http![f1_histogram_6_classes.png](data:image/png;base64,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)s://drive.google.com/uc?id=17aLzn7xqB0hImTWoLpl2H1PYV5rc8FIw'>"
      ]
    },
    {
      "cell_type": "code",
      "execution_count": null,
      "metadata": {
        "id": "s7C64XTwC9xM",
        "colab": {
          "base_uri": "https://localhost:8080/",
          "height": 297
        },
        "outputId": "eec0181e-4094-4a98-9959-ad06c929cfc8"
      },
      "outputs": [
        {
          "output_type": "display_data",
          "data": {
            "text/plain": [
              "<Figure size 432x288 with 1 Axes>"
            ],
            "image/png": "[encoded data removed]"
          },
          "metadata": {
            "needs_background": "light"
          }
        }
      ],
      "source": [
        "plt.figure(figsize=(6,4))\n",
        "\n",
        "ax= sns.countplot(x='quality', data=wine, color='green')\n",
        "ax.set(title='HISTOGRAM OF WINE QUALITY', xlabel='', ylabel='', yticklabels=[])\n",
        "ax.tick_params(left=False)\n",
        "ax.set_ylim(0,650)\n",
        "for p in ax.patches:\n",
        "  ax.annotate(p.get_height(),\n",
        "              xy=(p.get_x () + p.get_width() / 2, p.get_height()),\n",
        "              xytext=(0,10),\n",
        "              textcoords = 'offset points',\n",
        "              ha = 'center',\n",
        "              size=10)\n",
        "  \n",
        "plt.tight_layout()"
      ]
    },
    {
      "cell_type": "code",
      "source": [
        ""
      ],
      "metadata": {
        "id": "yDc7E571VkWa"
      },
      "execution_count": null,
      "outputs": []
    },
    {
      "cell_type": "markdown",
      "metadata": {
        "id": "fQ1HxFp-C9xM"
      },
      "source": [
        "## Task 5. Performing Exploratory Data Analysis (part 2)"
      ]
    },
    {
      "cell_type": "markdown",
      "metadata": {
        "id": "3mkZdcfiC9xM"
      },
      "source": [
        "### 5.1 Histogram of wine quality with 2 classes"
      ]
    },
    {
      "cell_type": "markdown",
      "metadata": {
        "id": "vEHmR1xIC9xM"
      },
      "source": [
        "<img src='https://drive.google.com/uc?id=158QRa9gvLM_xHrBybPysyCtduLMLIy5D'>"
      ]
    },
    {
      "cell_type": "code",
      "execution_count": null,
      "metadata": {
        "id": "hB3noz-mC9xM",
        "colab": {
          "base_uri": "https://localhost:8080/"
        },
        "outputId": "3dabafdc-2508-415c-afad-11a3cf4e0187"
      },
      "outputs": [
        {
          "output_type": "execute_result",
          "data": {
            "text/plain": [
              "good    719\n",
              "bad     640\n",
              "Name: quality2, dtype: int64"
            ]
          },
          "metadata": {},
          "execution_count": 39
        }
      ],
      "source": [
        "category_dictionary = {3: 'bad', 4:'bad', 5:'bad', 6:'good', 7:'good', 8:'good'}\n",
        "wine['quality2'] = wine.quality.map(category_dictionary)\n",
        "wine.quality2.value_counts()"
      ]
    },
    {
      "cell_type": "code",
      "execution_count": null,
      "metadata": {
        "colab": {
          "base_uri": "https://localhost:8080/"
        },
        "id": "GURj0v_wgFyO",
        "outputId": "a062a7d1-1ecc-45f6-8a7a-a67e5eb3940e"
      },
      "outputs": [
        {
          "output_type": "execute_result",
          "data": {
            "text/plain": [
              "good    52.9\n",
              "bad     47.1\n",
              "Name: quality2, dtype: float64"
            ]
          },
          "metadata": {},
          "execution_count": 40
        }
      ],
      "source": [
        "#calculating the percentage of each class using the .round() function from numpy\n",
        "np.round(wine.quality2.value_counts() / len(wine)*100, 1)"
      ]
    },
    {
      "cell_type": "code",
      "execution_count": null,
      "metadata": {
        "id": "bwfmR6M3gGUn"
      },
      "outputs": [],
      "source": [
        "class_labels = ['bad','good']# class labels for graphs\n",
        "custom_palette = {'bad':'blue', 'good':'red',\n",
        "                  0:'blue',1:'red'}"
      ]
    },
    {
      "cell_type": "code",
      "execution_count": null,
      "metadata": {
        "colab": {
          "base_uri": "https://localhost:8080/",
          "height": 297
        },
        "outputId": "0abf20dd-72c3-464c-8288-56dac8fd6c4b",
        "id": "EVGHY0vxe8Nr"
      },
      "outputs": [
        {
          "output_type": "display_data",
          "data": {
            "text/plain": [
              "<Figure size 252x288 with 1 Axes>"
            ],
            "image/png": "[encoded data removed]"
          },
          "metadata": {
            "needs_background": "light"
          }
        }
      ],
      "source": [
        "plt.figure(figsize=(3.5, 4))\n",
        "\n",
        "ax = sns.countplot(x='quality2', data=wine, palette=custom_palette)\n",
        "ax.set(title='HISTOGRAM OF WINE QUALITY', xlabel='', ylabel='', yticklabels=[])\n",
        "ax.tick_params(left=False)\n",
        "ax.set_ylim(0, 800)\n",
        "for p in ax.patches:\n",
        "    ax.annotate(p.get_height(), \n",
        "                xy=(p.get_x() + p.get_width() / 2, p.get_height()), \n",
        "                xytext = (0, 10),\n",
        "                textcoords = 'offset points',\n",
        "                ha = 'center', \n",
        "                size=10)\n",
        "\n",
        "plt.tight_layout()"
      ]
    },
    {
      "cell_type": "markdown",
      "metadata": {
        "id": "eLtHaf6AC9xN"
      },
      "source": [
        "### 5.2 Violin plots"
      ]
    },
    {
      "cell_type": "markdown",
      "metadata": {
        "id": "BHFPg4JiC9xO"
      },
      "source": [
        "<img src='https://drive.google.com/uc?id=1Ki4H99G52hLGVMa63jJnAPTgLp7z8d_U'>"
      ]
    },
    {
      "cell_type": "code",
      "execution_count": null,
      "metadata": {
        "id": "QgTd8z6JC9xO",
        "colab": {
          "base_uri": "https://localhost:8080/",
          "height": 726
        },
        "outputId": "d6bcc5bf-d7a0-4caf-d922-cfb200aa15c3"
      },
      "outputs": [
        {
          "output_type": "display_data",
          "data": {
            "text/plain": [
              "<Figure size 864x720 with 12 Axes>"
            ],
            "image/png": "[encoded data removed]"
          },
          "metadata": {
            "needs_background": "light"
          }
        }
      ],
      "source": [
        "fig, axs = plt.subplots(4, 3,figsize=(12,10))\n",
        "fig.suptitle('VIOLIN PLOTS', fontsize=15)\n",
        "\n",
        "column_names = wine.columns[1:12]\n",
        "for i, column_name in enumerate(column_names):\n",
        "  sns.violinplot(x='quality2', y=column_name, data=wine, ax=axs[i//3][i%3], palette=custom_palette)\n",
        "\n",
        "axs[3][2].axis('off')\n",
        "fig.tight_layout()\n",
        "fig.subplots_adjust(top=0.93)"
      ]
    },
    {
      "cell_type": "markdown",
      "metadata": {
        "id": "8PJ95DTLC9xO"
      },
      "source": [
        "### 5.3 Correlation plots"
      ]
    },
    {
      "cell_type": "markdown",
      "metadata": {
        "id": "UCIrD9Z0C9xO"
      },
      "source": [
        "<img src='https://drive.google.com/uc?id=1FQ4m4nP2l9PfmhtSFXqlY6BTYSJWa8ec'>"
      ]
    },
    {
      "cell_type": "code",
      "execution_count": null,
      "metadata": {
        "id": "NHU2GYyfC9xO"
      },
      "outputs": [],
      "source": [
        ""
      ]
    },
    {
      "cell_type": "code",
      "source": [
        "fig, (ax1, ax2)= plt.subplots(1, 2, figsize=(14,6.5));\n",
        "\n",
        "pearson_corr= wine.iloc[:,1:12].corr(method='pearson')\n",
        "spearman_corr =wine.iloc[:,1:12].corr(method ='spearman')\n",
        "\n",
        "mask = np.triu(np.ones_like(pearson_corr, dtype=bool), k=0)\n",
        "cmap = sns.diverging_palette(150,275)\n",
        "\n",
        "sns.heatmap(pearson_corr, mask=mask, annot=True, fmt=',.2f', cmap=cmap,\n",
        "            cbar=True, cbar_kws={\"shrink\": .5}, square=True, linewidths=.5,\n",
        "            vmax=0.8, vmin=-0.8, center=0, ax=ax1)\n",
        "ax1.set_title('PEARSON CORRELATION MATRIX')\n",
        "\n",
        "sns.heatmap(spearman_corr, mask=mask, annot=True, fmt=',.2f', cmap=cmap,\n",
        "            cbar=False, square=True, linewidths=.5,\n",
        "            vmax=0.8, vmin=-0.8, center=0, ax=ax2)\n",
        "ax2.set_title('SPEARMAN CORRELATION MATRIX')\n",
        "\n",
        "fig.tight_layout()"
      ],
      "metadata": {
        "colab": {
          "base_uri": "https://localhost:8080/",
          "height": 477
        },
        "id": "SgqXRHhY3BMz",
        "outputId": "fa3b7371-ba76-4a8c-e8dc-6a8e16632440"
      },
      "execution_count": null,
      "outputs": [
        {
          "output_type": "display_data",
          "data": {
            "text/plain": [
              "<Figure size 1008x468 with 3 Axes>"
            ],
            "image/png": "[encoded data removed]"
          },
          "metadata": {
            "needs_background": "light"
          }
        }
      ]
    },
    {
      "cell_type": "markdown",
      "metadata": {
        "id": "5JhzW9rDC9xP"
      },
      "source": [
        "## Task 6. Generating Training, Validation and Testing Datasets"
      ]
    },
    {
      "cell_type": "markdown",
      "metadata": {
        "id": "2l4DPA6gC9xP"
      },
      "source": [
        "### 6.1 Define feature dataset and encode class labels"
      ]
    },
    {
      "cell_type": "code",
      "execution_count": null,
      "metadata": {
        "id": "WRkjdGlEC9xP",
        "colab": {
          "base_uri": "https://localhost:8080/"
        },
        "outputId": "0a421c91-79ea-408a-d190-f391321afc3a"
      },
      "outputs": [
        {
          "output_type": "execute_result",
          "data": {
            "text/plain": [
              "(array([0, 1]), array([640, 719]))"
            ]
          },
          "metadata": {},
          "execution_count": 50
        }
      ],
      "source": [
        "X= wine.iloc[:,1:12]\n",
        "y=LabelEncoder().fit_transform(wine.quality2)\n",
        "\n",
        "np.unique(y, return_counts=True)"
      ]
    },
    {
      "cell_type": "code",
      "execution_count": null,
      "metadata": {
        "id": "-456pGzrC9xP",
        "colab": {
          "base_uri": "https://localhost:8080/"
        },
        "outputId": "9a1b05b1-ab33-4aac-eb7c-3989eedf9456"
      },
      "outputs": [
        {
          "output_type": "execute_result",
          "data": {
            "text/plain": [
              "0    640\n",
              "1    719\n",
              "Name: quality2, dtype: int64"
            ]
          },
          "metadata": {},
          "execution_count": 51
        }
      ],
      "source": [
        "class_dictionary = {'bad':0, 'good':1}\n",
        "y = wine.quality2.map(class_dictionary)\n",
        "y.value_counts(sort=False)"
      ]
    },
    {
      "cell_type": "code",
      "execution_count": null,
      "metadata": {
        "id": "Jt5Vuq5NC9xP",
        "colab": {
          "base_uri": "https://localhost:8080/"
        },
        "outputId": "6b010af0-04df-4828-f885-b2adcea6b549"
      },
      "outputs": [
        {
          "output_type": "stream",
          "name": "stdout",
          "text": [
            "Number of features =  11\n",
            "['alcohol' 'fixed_acidity' 'volatile_acidity' 'citric_acid'\n",
            " 'residual_sugar' 'chlorides' 'free_sulfur_dioxide' 'total_sulfur_dioxide'\n",
            " 'density' 'pH' 'sulphates']\n"
          ]
        }
      ],
      "source": [
        "features_names = np.array(X.columns)\n",
        "print('Number of features = ', len(features_names))\n",
        "print(features_names)"
      ]
    },
    {
      "cell_type": "markdown",
      "metadata": {
        "id": "Y5j-3RzkC9xP"
      },
      "source": [
        "### 6.2 Generate training, validation and testing sets"
      ]
    },
    {
      "cell_type": "code",
      "execution_count": null,
      "metadata": {
        "id": "tSKrqE8DC9xQ"
      },
      "outputs": [],
      "source": [
        "X_train, X_test, y_train, y_test = train_test_split(X, y, train_size=.8, random_state=2**9, stratify=y)\n",
        "X_train, X_val, y_train, y_val = train_test_split(X_train, y_train, train_size=.5, random_state=9**2, stratify=y_train)"
      ]
    },
    {
      "cell_type": "code",
      "execution_count": null,
      "metadata": {
        "id": "ZNHuNojwC9xQ",
        "colab": {
          "base_uri": "https://localhost:8080/",
          "height": 146
        },
        "outputId": "5669fe2c-dccc-4379-f6d9-34b60f3eed7f"
      },
      "outputs": [
        {
          "output_type": "stream",
          "name": "stdout",
          "text": [
            "Number of rows: y_train: 543, y_val:544, y_test:272, Total:1359\n",
            "Distribution by classes\n"
          ]
        },
        {
          "output_type": "execute_result",
          "data": {
            "text/plain": [
              "   train set  validation set  test set\n",
              "0        256             256       128\n",
              "1        287             288       144"
            ],
            "text/html": [
              "\n",
              "  <div id=\"df-8eefb5f4-6f13-4339-80eb-348fb5e39907\">\n",
              "    <div class=\"colab-df-container\">\n",
              "      <div>\n",
              "<style scoped>\n",
              "    .dataframe tbody tr th:only-of-type {\n",
              "        vertical-align: middle;\n",
              "    }\n",
              "\n",
              "    .dataframe tbody tr th {\n",
              "        vertical-align: top;\n",
              "    }\n",
              "\n",
              "    .dataframe thead th {\n",
              "        text-align: right;\n",
              "    }\n",
              "</style>\n",
              "<table border=\"1\" class=\"dataframe\">\n",
              "  <thead>\n",
              "    <tr style=\"text-align: right;\">\n",
              "      <th></th>\n",
              "      <th>train set</th>\n",
              "      <th>validation set</th>\n",
              "      <th>test set</th>\n",
              "    </tr>\n",
              "  </thead>\n",
              "  <tbody>\n",
              "    <tr>\n",
              "      <th>0</th>\n",
              "      <td>256</td>\n",
              "      <td>256</td>\n",
              "      <td>128</td>\n",
              "    </tr>\n",
              "    <tr>\n",
              "      <th>1</th>\n",
              "      <td>287</td>\n",
              "      <td>288</td>\n",
              "      <td>144</td>\n",
              "    </tr>\n",
              "  </tbody>\n",
              "</table>\n",
              "</div>\n",
              "      <button class=\"colab-df-convert\" onclick=\"convertToInteractive('df-8eefb5f4-6f13-4339-80eb-348fb5e39907')\"\n",
              "              title=\"Convert this dataframe to an interactive table.\"\n",
              "              style=\"display:none;\">\n",
              "        \n",
              "  <svg xmlns=\"http://www.w3.org/2000/svg\" height=\"24px\"viewBox=\"0 0 24 24\"\n",
              "       width=\"24px\">\n",
              "    <path d=\"M0 0h24v24H0V0z\" fill=\"none\"/>\n",
              "    <path d=\"M18.56 5.44l.94 2.06.94-2.06 2.06-.94-2.06-.94-.94-2.06-.94 2.06-2.06.94zm-11 1L8.5 8.5l.94-2.06 2.06-.94-2.06-.94L8.5 2.5l-.94 2.06-2.06.94zm10 10l.94 2.06.94-2.06 2.06-.94-2.06-.94-.94-2.06-.94 2.06-2.06.94z\"/><path d=\"M17.41 7.96l-1.37-1.37c-.4-.4-.92-.59-1.43-.59-.52 0-1.04.2-1.43.59L10.3 9.45l-7.72 7.72c-.78.78-.78 2.05 0 2.83L4 21.41c.39.39.9.59 1.41.59.51 0 1.02-.2 1.41-.59l7.78-7.78 2.81-2.81c.8-.78.8-2.07 0-2.86zM5.41 20L4 18.59l7.72-7.72 1.47 1.35L5.41 20z\"/>\n",
              "  </svg>\n",
              "      </button>\n",
              "      \n",
              "  <style>\n",
              "    .colab-df-container {\n",
              "      display:flex;\n",
              "      flex-wrap:wrap;\n",
              "      gap: 12px;\n",
              "    }\n",
              "\n",
              "    .colab-df-convert {\n",
              "      background-color: #E8F0FE;\n",
              "      border: none;\n",
              "      border-radius: 50%;\n",
              "      cursor: pointer;\n",
              "      display: none;\n",
              "      fill: #1967D2;\n",
              "      height: 32px;\n",
              "      padding: 0 0 0 0;\n",
              "      width: 32px;\n",
              "    }\n",
              "\n",
              "    .colab-df-convert:hover {\n",
              "      background-color: #E2EBFA;\n",
              "      box-shadow: 0px 1px 2px rgba(60, 64, 67, 0.3), 0px 1px 3px 1px rgba(60, 64, 67, 0.15);\n",
              "      fill: #174EA6;\n",
              "    }\n",
              "\n",
              "    [theme=dark] .colab-df-convert {\n",
              "      background-color: #3B4455;\n",
              "      fill: #D2E3FC;\n",
              "    }\n",
              "\n",
              "    [theme=dark] .colab-df-convert:hover {\n",
              "      background-color: #434B5C;\n",
              "      box-shadow: 0px 1px 3px 1px rgba(0, 0, 0, 0.15);\n",
              "      filter: drop-shadow(0px 1px 2px rgba(0, 0, 0, 0.3));\n",
              "      fill: #FFFFFF;\n",
              "    }\n",
              "  </style>\n",
              "\n",
              "      <script>\n",
              "        const buttonEl =\n",
              "          document.querySelector('#df-8eefb5f4-6f13-4339-80eb-348fb5e39907 button.colab-df-convert');\n",
              "        buttonEl.style.display =\n",
              "          google.colab.kernel.accessAllowed ? 'block' : 'none';\n",
              "\n",
              "        async function convertToInteractive(key) {\n",
              "          const element = document.querySelector('#df-8eefb5f4-6f13-4339-80eb-348fb5e39907');\n",
              "          const dataTable =\n",
              "            await google.colab.kernel.invokeFunction('convertToInteractive',\n",
              "                                                     [key], {});\n",
              "          if (!dataTable) return;\n",
              "\n",
              "          const docLinkHtml = 'Like what you see? Visit the ' +\n",
              "            '<a target=\"_blank\" href=https://colab.research.google.com/notebooks/data_table.ipynb>data table notebook</a>'\n",
              "            + ' to learn more about interactive tables.';\n",
              "          element.innerHTML = '';\n",
              "          dataTable['output_type'] = 'display_data';\n",
              "          await google.colab.output.renderOutput(dataTable, element);\n",
              "          const docLink = document.createElement('div');\n",
              "          docLink.innerHTML = docLinkHtml;\n",
              "          element.appendChild(docLink);\n",
              "        }\n",
              "      </script>\n",
              "    </div>\n",
              "  </div>\n",
              "  "
            ]
          },
          "metadata": {},
          "execution_count": 54
        }
      ],
      "source": [
        "print ('Number of rows: y_train: {}, y_val:{}, y_test:{}, Total:{}'.format(len(y_train),len(y_val),len(y_test), len(y)))\n",
        "print('Distribution by classes')\n",
        "pd.DataFrame({'train set': np.unique(y_train, return_counts=True)[1],\n",
        "             'validation set': np.unique(y_val, return_counts=True)[1],\n",
        "              'test set': np.unique(y_test, return_counts=True)[1]})"
      ]
    },
    {
      "cell_type": "markdown",
      "metadata": {
        "id": "KRslYd2fC9xQ"
      },
      "source": [
        "## Task 7. Creating a Data Visualizer"
      ]
    },
    {
      "cell_type": "markdown",
      "metadata": {
        "id": "XnNxb1fdC9xQ"
      },
      "source": [
        "<img src='https://drive.google.com/uc?id=1hJ2zJyv-WCvM8d5dxo1uooO3xJKBgNM3'>"
      ]
    },
    {
      "cell_type": "code",
      "execution_count": null,
      "metadata": {
        "id": "ElFekeVXC9xQ"
      },
      "outputs": [],
      "source": [
        "def print_outputs(X, X_train, X_val, X_test, y, y_train, y_val, y_test, clf,\n",
        "                 title='CONFUSION MATRICES'):\n",
        "\n",
        "    train_score = clf.score(X_train, y_train)\n",
        "    val_score = clf.score(X_val, y_val)\n",
        "    test_score = clf.score(X_test, y_test)\n",
        "\n",
        "    print('   - Accuracy on training set = {:.2f}'.format(train_score))\n",
        "    print('   - Accuracy on validation set = {:.2f}'.format(val_score))\n",
        "    print('   - Accuracy on testing set = {:.2f}'.format(test_score))\n",
        "    print('   - Total Accuracy = {:.2f}\\n'.format(clf.score(X, y)))    \n",
        "\n",
        "    y_train_predicted = clf.predict(X_train)\n",
        "    y_val_predicted = clf.predict(X_val)\n",
        "    y_test_predicted = clf.predict(X_test)\n",
        "    \n",
        "    confusion = []\n",
        "    confusion.append(pd.DataFrame(confusion_matrix(y_train, y_train_predicted))) # train\n",
        "    confusion.append(pd.DataFrame(confusion_matrix(y_val, y_val_predicted))) # validation\n",
        "    confusion.append(pd.DataFrame(confusion_matrix(y_test, y_test_predicted))) # test\n",
        "\n",
        "    fig, (ax1, ax2, ax3) = plt.subplots(1, 3, figsize=(10, 3))\n",
        "    fig.suptitle(title, fontsize=15)\n",
        "    axs = [ax1, ax2, ax3]\n",
        "\n",
        "    for i in range(3):\n",
        "        sns.heatmap(confusion[i], annot=True, fmt=',.0f', cbar=False, cmap='YlGnBu', ax= axs[i])\n",
        "        axs[i].set(xticklabels=class_labels, yticklabels=class_labels, xlabel='Predicted label', ylabel='True label')      \n",
        "\n",
        "    ax1.set_title('Training accuracy = {:.2f}'.format(train_score))\n",
        "    ax2.set_title('Validation accuracy = {:.2f}'.format(val_score))\n",
        "    ax3.set_title('Testing accuracy = {:.2f}'.format(test_score))\n",
        "\n",
        "    fig.tight_layout()\n",
        "    fig.subplots_adjust(top=0.80)"
      ]
    },
    {
      "cell_type": "code",
      "execution_count": null,
      "metadata": {
        "id": "Qf6--MGLC9xQ"
      },
      "outputs": [],
      "source": [
        ""
      ]
    },
    {
      "cell_type": "markdown",
      "metadata": {
        "id": "OgDypyYSC9xR"
      },
      "source": [
        "## Task 8. Applying a Random Forest Classifier"
      ]
    },
    {
      "cell_type": "markdown",
      "metadata": {
        "id": "GOS3dL3JC9xR"
      },
      "source": [
        "### 8.1 Train classifier"
      ]
    },
    {
      "cell_type": "code",
      "execution_count": null,
      "metadata": {
        "id": "GiJHT8hNC9xR",
        "colab": {
          "base_uri": "https://localhost:8080/",
          "height": 318
        },
        "outputId": "8fecf1cd-4c06-4c0f-d193-5d80d5e4f5f0"
      },
      "outputs": [
        {
          "output_type": "stream",
          "name": "stdout",
          "text": [
            "   - Accuracy on training set = 1.00\n",
            "   - Accuracy on validation set = 0.76\n",
            "   - Accuracy on testing set = 0.73\n",
            "   - Total Accuracy = 0.85\n",
            "\n"
          ]
        },
        {
          "output_type": "display_data",
          "data": {
            "text/plain": [
              "<Figure size 720x216 with 3 Axes>"
            ],
            "image/png": "[encoded data removed]"
          },
          "metadata": {
            "needs_background": "light"
          }
        }
      ],
      "source": [
        "clf_0 = RandomForestClassifier(random_state=0)\n",
        "clf_0.fit(X_train, y_train)\n",
        "\n",
        "print_outputs(X, X_train, X_val, X_test, y, y_train, y_val, y_test, clf_0)"
      ]
    },
    {
      "cell_type": "markdown",
      "metadata": {
        "id": "cEwZTF9CC9xR"
      },
      "source": [
        "### 8.2 Calibrate classifier"
      ]
    },
    {
      "cell_type": "code",
      "execution_count": null,
      "metadata": {
        "id": "YA-BRAEEC9xR",
        "colab": {
          "base_uri": "https://localhost:8080/",
          "height": 318
        },
        "outputId": "9f5f2ee6-1380-47c0-bfa5-dd86e09c0c40"
      },
      "outputs": [
        {
          "output_type": "stream",
          "name": "stdout",
          "text": [
            "   - Accuracy on training set = 1.00\n",
            "   - Accuracy on validation set = 0.75\n",
            "   - Accuracy on testing set = 0.75\n",
            "   - Total Accuracy = 0.85\n",
            "\n"
          ]
        },
        {
          "output_type": "display_data",
          "data": {
            "text/plain": [
              "<Figure size 720x216 with 3 Axes>"
            ],
            "image/png": "[encoded data removed]"
          },
          "metadata": {
            "needs_background": "light"
          }
        }
      ],
      "source": [
        "clf_0c = CalibratedClassifierCV(clf_0, method='sigmoid', cv='prefit')\n",
        "clf_0c.fit(X_val, y_val)\n",
        "\n",
        "print_outputs(X, X_train, X_val, X_test, y, y_train, y_val, y_test, clf_0c, title='CONFUSION MATRICES AFTER CALIBRATING')"
      ]
    },
    {
      "cell_type": "markdown",
      "source": [
        ""
      ],
      "metadata": {
        "id": "G5MRC3Wz0uOc"
      }
    },
    {
      "cell_type": "markdown",
      "metadata": {
        "id": "O0m8GNJN_BYU"
      },
      "source": [
        "### 8.3 Swap roles between training and validation datasets"
      ]
    },
    {
      "cell_type": "code",
      "execution_count": null,
      "metadata": {
        "id": "RZRi_FoXC9xR"
      },
      "outputs": [],
      "source": [
        "print('Training classifier before clalibrating:')\n",
        "clf_1 = RandomForestClassifier(random_state=0)\n",
        "clf_1.fit(X_val, y_val)\n",
        "print_outputs(X, X_val, X_train, X_test, y, y_val, y_train, y_test, clf_1, title='CONFUSION MATRICES BEFORE CALIBRATING')\n",
        "\n",
        "print('Training classifier after calibrating:')\n",
        "clf_1c = CalibratedClassifierCV(clf_1, method='sigmoid', cv='prefit')\n",
        "clf_1c.fit(X_train, y_train)\n",
        "print_outputs(X, X_val, X_train, X_test, y, y_val, y_train, y_test, clf_1c, title='CONFUSION MATRICES AFTER CALIBRATING')"
      ]
    },
    {
      "cell_type": "code",
      "execution_count": null,
      "metadata": {
        "id": "ddveuH3_C9xS"
      },
      "outputs": [],
      "source": [
        ""
      ]
    },
    {
      "cell_type": "markdown",
      "metadata": {
        "id": "42q26_tFC9xS"
      },
      "source": [
        "## Task 9. Analizing Random Forest Importances"
      ]
    },
    {
      "cell_type": "markdown",
      "metadata": {
        "id": "0CkB5URWC9xS"
      },
      "source": [
        "<img src='https://drive.google.com/uc?id=1qCto36Zuzw-U0tUSyQrj_1R2Yqgd2RNb'>"
      ]
    },
    {
      "cell_type": "code",
      "execution_count": null,
      "metadata": {
        "id": "ftZZ1VUwC9xS",
        "colab": {
          "base_uri": "https://localhost:8080/",
          "height": 726
        },
        "outputId": "9949e1f9-babd-436a-8ca1-adaed7de86ae"
      },
      "outputs": [
        {
          "output_type": "display_data",
          "data": {
            "text/plain": [
              "<Figure size 864x720 with 4 Axes>"
            ],
            "image/png": "[encoded data removed]"
          },
          "metadata": {
            "needs_background": "light"
          }
        }
      ],
      "source": [
        "# clf_0 = RandomForestClassifier(random_state=0)\n",
        "# clf_0.fit(X_train, y_train)\n",
        "\n",
        "fig, ((ax1, ax2), (ax3, ax4)) = plt.subplots(2, 2, figsize=(12, 10))\n",
        "\n",
        "fig.suptitle('RANDOM FOREST IMPORTANCES', fontsize=15)\n",
        "\n",
        "feature_importances = clf_0.feature_importances_\n",
        "sorted_idx = feature_importances.argsort()\n",
        "\n",
        "y_ticks = np.arange(0, len(features_names))\n",
        "ax1.barh(y_ticks, feature_importances[sorted_idx], color='blue', alpha=0.8)\n",
        "ax1.set_yticklabels(features_names[sorted_idx])\n",
        "ax1.set_yticks(y_ticks)\n",
        "ax1.set_title(\"FEATURE IMPORTANCES (MDI) ON TRAINING SET\")\n",
        "\n",
        "permutation_train = permutation_importance(clf_0, X_train, y_train, n_repeats=15, random_state=7**4, n_jobs=-1)\n",
        "sorted_idx = permutation_train.importances_mean.argsort()\n",
        "#print(permutation_train.importances_mean[sorted_idx].T)\n",
        "ax2.boxplot(permutation_train.importances[sorted_idx].T,\n",
        "           vert=False, labels=features_names[sorted_idx])\n",
        "ax2.set_title('PERMUTATION IMPORTANCES ON TRAINING SET')\n",
        "\n",
        "ax3.axis('off')\n",
        "\n",
        "permutation_val = permutation_importance(clf_0, X_val, y_val, n_repeats=15, random_state=6**3, n_jobs=-1)\n",
        "sorted_idx = permutation_val.importances_mean.argsort()\n",
        "\n",
        "ax4.boxplot(permutation_val.importances[sorted_idx].T,\n",
        "           vert=False, labels=features_names[sorted_idx]) \n",
        "\n",
        "ax4.set_title('PERMUTATION IMPORTANCES ON VALIDATION SET')\n",
        "\n",
        "fig.tight_layout()\n",
        "fig.subplots_adjust(top=0.92)"
      ]
    },
    {
      "cell_type": "markdown",
      "metadata": {
        "id": "J6n2C1QEC9xS"
      },
      "source": [
        "## Task 10. Clustering Analysis"
      ]
    },
    {
      "cell_type": "markdown",
      "metadata": {
        "id": "ysJg5ZqUC9xT"
      },
      "source": [
        "### 10.1 Compute Ward's minimum variance criterion"
      ]
    },
    {
      "cell_type": "markdown",
      "metadata": {
        "id": "X3UhE_SaC9xT"
      },
      "source": [
        "<img src='https://drive.google.com/uc?id=1AoCPSURgQAttSHkRdzvnO_rMEKR52Lzw'>"
      ]
    },
    {
      "cell_type": "code",
      "execution_count": null,
      "metadata": {
        "id": "2ySSDvMaC9xT",
        "colab": {
          "base_uri": "https://localhost:8080/",
          "height": 477
        },
        "outputId": "9c9d76d8-7351-4e36-9e57-b32ccd0d6ac8"
      },
      "outputs": [
        {
          "output_type": "display_data",
          "data": {
            "text/plain": [
              "<Figure size 1008x468 with 3 Axes>"
            ],
            "image/png": "[encoded data removed]"
          },
          "metadata": {
            "needs_background": "light"
          }
        }
      ],
      "source": [
        "fig, (ax1, ax2) = plt.subplots(1, 2, figsize=(14, 6.5))\n",
        "corr = spearmanr(X_train).correlation\n",
        "corr_linkage = hierarchy.ward(corr)\n",
        "dendro = hierarchy.dendrogram(\n",
        "    corr_linkage, labels=features_names, ax=ax1, leaf_rotation=90)\n",
        "ax1.set_title('DENDROGRAM FOR TRAINING SET')\n",
        "ax1.axhline(1, color='cyan')\n",
        "\n",
        "corr_dendro = corr[dendro['leaves'], :][:, dendro['leaves']] #  cluster node j appears in position i in the left-to-right traversal of the leaves\n",
        "mask = np.triu(np.ones_like(corr_dendro, dtype=bool), k=0) # Generate a mask for the upper triangle\n",
        "\n",
        "sns.heatmap(corr_dendro, mask=mask, annot=True, fmt=',.2f', cmap=cmap, \n",
        "            cbar=True, cbar_kws={\"shrink\": .5}, square=True, linewidths=.5, \n",
        "            center=0, vmax=0.8, vmin=-0.8, ax=ax2)\n",
        "\n",
        "ax2.set_title('CORRELATION MATRIX ON TRAINING SET (SPEARMAN)')\n",
        "ax2.set_xticklabels(dendro['ivl'], rotation=90)\n",
        "ax2.set_yticklabels(dendro['ivl'], rotation=0)\n",
        "\n",
        "fig.tight_layout();"
      ]
    },
    {
      "cell_type": "markdown",
      "metadata": {
        "id": "HWJi7ZcXC9xT"
      },
      "source": [
        "### 10.2 Select features from clusters"
      ]
    },
    {
      "cell_type": "code",
      "execution_count": null,
      "metadata": {
        "id": "8XluCZmjC9xT",
        "colab": {
          "base_uri": "https://localhost:8080/"
        },
        "outputId": "8f77233c-6eaa-47f2-9db2-4ccf03909d5c"
      },
      "outputs": [
        {
          "output_type": "stream",
          "name": "stdout",
          "text": [
            "Number of selected features = 8\n",
            "Selected features = ['alcohol', 'fixed_acidity', 'volatile_acidity', 'residual_sugar', 'chlorides', 'free_sulfur_dioxide', 'pH', 'sulphates']\n",
            "Removed features = ['citric_acid', 'total_sulfur_dioxide', 'density'] \n",
            "\n"
          ]
        }
      ],
      "source": [
        "cluster_ids = hierarchy.fcluster(corr_linkage, t=1, criterion='distance')\n",
        "the_dict = collections.defaultdict(list) #defaultdict is created with the values that are list.\n",
        "for idx, cluster_id in enumerate(cluster_ids):\n",
        "    the_dict[cluster_id].append(idx)\n",
        "selected_features = [v[0] for v in the_dict.values()]\n",
        "removed_features = [i for i in range(len(features_names)) if i not in selected_features]\n",
        "#removed_features = list(set(features_names) - set(features_names[selected_features]))\n",
        "\n",
        "print('Number of selected features =', len(selected_features))\n",
        "print('Selected features =', features_names[selected_features].tolist())\n",
        "print('Removed features =', features_names[removed_features].tolist(), '\\n')"
      ]
    },
    {
      "cell_type": "markdown",
      "metadata": {
        "id": "2V_P64ypC9xU"
      },
      "source": [
        "### 10.3 Train classifier with selected features"
      ]
    },
    {
      "cell_type": "code",
      "execution_count": null,
      "metadata": {
        "id": "a8x6bafPC9xU"
      },
      "outputs": [],
      "source": [
        "X_sel = X.iloc[:, selected_features]\n",
        "X_train_sel = X_train.iloc[:, selected_features]\n",
        "X_val_sel = X_val.iloc[:, selected_features]\n",
        "X_test_sel = X_test.iloc[:, selected_features]\n",
        "\n"
      ]
    },
    {
      "cell_type": "markdown",
      "metadata": {
        "id": "SBMvUBQyC9xU"
      },
      "source": [
        "### 10.4 Train classifier with removed features"
      ]
    },
    {
      "cell_type": "code",
      "execution_count": null,
      "metadata": {
        "id": "C9YP9IZxC9xU"
      },
      "outputs": [],
      "source": [
        "X_rem = X.iloc[:, removed_features]\n",
        "X_train_rem = X_train.iloc[:, removed_features]\n",
        "X_val_rem = X_val.iloc[:, removed_features]\n",
        "X_test_rem = X_test.iloc[:, removed_features]\n",
        "\n"
      ]
    },
    {
      "cell_type": "markdown",
      "metadata": {
        "id": "mxq263c5C9xV"
      },
      "source": [
        "## Task 11. Performing Hyperparameter Tuning"
      ]
    },
    {
      "cell_type": "code",
      "execution_count": null,
      "metadata": {
        "id": "Z49C8aHaC9xV"
      },
      "outputs": [],
      "source": [
        "param_grid = {\n",
        "    'n_estimators' : [50, 75, 100],    # The number of trees in the forest, default=100\n",
        "    'max_features' : [2, 5],           # The number of features to consider when looking for the best split, default=sqrt(n_features)\n",
        "    'max_depth'    : [3, 5, 7],        # The maximum depth of the tree, default=None\n",
        "    'class_weight' : [None, 'balanced', 'balanced_subsample'] # Used to associate weights with classes, default=None\n",
        "}\n",
        "\n"
      ]
    },
    {
      "cell_type": "code",
      "execution_count": null,
      "metadata": {
        "id": "LHECwGLnC9xV"
      },
      "outputs": [],
      "source": [
        ""
      ]
    },
    {
      "cell_type": "code",
      "execution_count": null,
      "metadata": {
        "id": "ydC0PmuIC9xV"
      },
      "outputs": [],
      "source": [
        ""
      ]
    },
    {
      "cell_type": "markdown",
      "metadata": {
        "id": "4kuZOWD0C9xV"
      },
      "source": [
        "## **Further Readings:**   \n",
        "- *4 Types of Classification Tasks in Machine Learning*. Available [here](https://machinelearningmastery.com/types-of-classification-in-machine-learning/).    \n",
        "- *A comparison of the Pearson and Spearman correlation methods*. Available [here](https://support.minitab.com/en-us/minitab-express/1/help-and-how-to/modeling-statistics/regression/supporting-topics/basics/a-comparison-of-the-pearson-and-spearman-correlation-methods/#:~:text=The%20Pearson%20correlation%20evaluates%20the%20linear%20relationship%20between%20two%20continuous%20variables.&text=The%20Spearman%20correlation%20coefficient%20is,evaluate%20relationships%20involving%20ordinal%20variables).        \n",
        "- *Beware Default Random Forest Importances*. Available [here](https://explained.ai/rf-importance/).          "
      ]
    },
    {
      "cell_type": "code",
      "execution_count": null,
      "metadata": {
        "id": "AdzSLJ88C9xV"
      },
      "outputs": [],
      "source": [
        ""
      ]
    }
  ],
  "metadata": {
    "kernelspec": {
      "display_name": "Python 3",
      "language": "python",
      "name": "python3"
    },
    "language_info": {
      "codemirror_mode": {
        "name": "ipython",
        "version": 3
      },
      "file_extension": ".py",
      "mimetype": "text/x-python",
      "name": "python",
      "nbconvert_exporter": "python",
      "pygments_lexer": "ipython3",
      "version": "3.7.6"
    },
    "colab": {
      "name": "Predicting wine quality project.ipynb",
      "provenance": [],
      "collapsed_sections": [
        "jMnm8BRiC9xJ",
        "6MsnzkJWC9xK"
      ],
      "include_colab_link": true
    }
  },
  "nbformat": 4,
  "nbformat_minor": 0
}